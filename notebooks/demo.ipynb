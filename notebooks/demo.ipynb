{
 "cells": [
  {
   "cell_type": "code",
   "execution_count": 6,
   "id": "f06ff2f2",
   "metadata": {},
   "outputs": [],
   "source": [
    "# dependencies\n",
    "import yaml\n",
    "import pandas as pd"
   ]
  },
  {
   "cell_type": "code",
   "execution_count": 5,
   "id": "583f6a32",
   "metadata": {},
   "outputs": [],
   "source": [
    "# support methods\n",
    "def read_yaml(fname):\n",
    "    with open(fname, 'r') as f_handle:\n",
    "        out = yaml.safe_load(f_handle)\n",
    "    return out"
   ]
  },
  {
   "cell_type": "code",
   "execution_count": 8,
   "id": "74f71389",
   "metadata": {},
   "outputs": [],
   "source": [
    "# main\n",
    "input_f = \"../input/\"\n",
    "hand_f = \"../hand/file.yml\"\n",
    "\n",
    "magic_nums = read_yaml(hand_f)"
   ]
  },
  {
   "cell_type": "code",
   "execution_count": null,
   "id": "d4473dd7",
   "metadata": {},
   "outputs": [],
   "source": [
    "magic_nums[key]"
   ]
  },
  {
   "cell_type": "markdown",
   "id": "2c9008fd",
   "metadata": {},
   "source": [
    "# header\n",
    "### sub headerr"
   ]
  },
  {
   "cell_type": "markdown",
   "id": "0e703368",
   "metadata": {},
   "source": [
    "- bullet\n",
    "\n",
    "1. list"
   ]
  },
  {
   "cell_type": "code",
   "execution_count": null,
   "id": "29e035b1",
   "metadata": {},
   "outputs": [],
   "source": []
  }
 ],
 "metadata": {
  "kernelspec": {
   "display_name": "Python 3 (ipykernel)",
   "language": "python",
   "name": "python3"
  },
  "language_info": {
   "codemirror_mode": {
    "name": "ipython",
    "version": 3
   },
   "file_extension": ".py",
   "mimetype": "text/x-python",
   "name": "python",
   "nbconvert_exporter": "python",
   "pygments_lexer": "ipython3",
   "version": "3.10.11"
  }
 },
 "nbformat": 4,
 "nbformat_minor": 5
}
