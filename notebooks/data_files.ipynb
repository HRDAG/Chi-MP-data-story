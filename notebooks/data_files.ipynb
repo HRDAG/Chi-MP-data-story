{
 "cells": [
  {
   "cell_type": "code",
   "execution_count": 3,
   "id": "d9669f3f-1a0f-4b1b-bb22-12740abbba9d",
   "metadata": {},
   "outputs": [],
   "source": [
    "# dependencies\n",
    "from os import listdir\n",
    "import pandas as pd"
   ]
  },
  {
   "cell_type": "code",
   "execution_count": 2,
   "id": "448c48eb-38bd-4004-a762-5a3ea6f24215",
   "metadata": {},
   "outputs": [],
   "source": [
    "# support methods"
   ]
  },
  {
   "cell_type": "code",
   "execution_count": 4,
   "id": "19c36db9-4cf2-42bc-8027-cebd25829f3e",
   "metadata": {},
   "outputs": [
    {
     "data": {
      "text/plain": [
       "['mp.parquet',\n",
       " 'extras.parquet',\n",
       " 'oemc_location.parquet',\n",
       " '.ipynb_checkpoints',\n",
       " 'deaths.parquet',\n",
       " 'oemc_dispatch.parquet']"
      ]
     },
     "execution_count": 4,
     "metadata": {},
     "output_type": "execute_result"
    }
   ],
   "source": [
    "# main\n",
    "listdir(\"../data/\")\n",
    "\n",
    "cpd_mp = pd.read_parquet(\"../data/mp.parquet\")\n",
    "mp_extras = pd.read_parquet(\"../data/extras.parquet\")\n",
    "\n",
    "oemc_disp = pd.read_parquet(\"../data/oemc_dispatch.parquet\")\n",
    "oemc_loc = pd.read_parquet(\"../data/oemc_location.parquet\")\n",
    "\n",
    "me = pd.read_parquet(\"../data/me.parquet\")"
   ]
  },
  {
   "cell_type": "code",
   "execution_count": null,
   "id": "de9e7455-a5fc-42d3-b561-31052208cf25",
   "metadata": {},
   "outputs": [],
   "source": []
  }
 ],
 "metadata": {
  "kernelspec": {
   "display_name": "Python 3 (ipykernel)",
   "language": "python",
   "name": "python3"
  },
  "language_info": {
   "codemirror_mode": {
    "name": "ipython",
    "version": 3
   },
   "file_extension": ".py",
   "mimetype": "text/x-python",
   "name": "python",
   "nbconvert_exporter": "python",
   "pygments_lexer": "ipython3",
   "version": "3.12.2"
  }
 },
 "nbformat": 4,
 "nbformat_minor": 5
}
