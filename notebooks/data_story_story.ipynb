{
 "cells": [
  {
   "cell_type": "markdown",
   "id": "25d3bede-e3be-4ba9-98be-1086b0856e36",
   "metadata": {},
   "source": [
    "# Background\n",
    "\n",
    "<br>\n",
    "\n",
    "When the journalists at the Invisible Institute (II) had questions about the outcomes of missing persons reports handled by the Chicago Police Department (CPD), prompted by misconduct complaints discovered in [Beneath the Surface](btsurface.com), they began an investigation by using public records requests to obtain a copy of CPD's report database. Our organizations began collaborating on a review of the data soon after.\n",
    "\n",
    "Their original questions _should_ have required relatively simple analysis:\n",
    "<ol>\n",
    "<li>How many people were reported missing in Chicago in this time period?</li>\n",
    "<li>CPD has previously claimed more than 99% of reports are for runaways who return or are found. What does the data show about how often people are located and their condition at the time of being located?</li>\n",
    "<li>How long does it typically take for police to respond to a new missing person report?</li>\n",
    "<li>For a very small sample of widely publicized cases, what does the data show about the case status and time to arrive?</li>\n",
    "</ol>\n",
    "\n",
    "At HRDAG, we expect to receive messy data that needs some degree of tidying. Data entry errors as well as missing datapoints are common enough that we seek them out in our data processing steps, and even seek to employ advanced statistical techniques like [multiple systems estimation (MSE)](https://hrdag.org/2013/03/11/mse-the-basics/) to help fill in some of the blanks that aren't recoverable through standardization.\n",
    "\n",
    "In the missing persons investigation, however, II's modest questions such as, \"How often were missing persons located by CPD?\" and, \"What was the condition of the located person?\", which were intended to confirm CPD's previous public statements, were not possible to answer even after standardizing the data because there were no structured fields related to these pieces of information.\n",
    "\n",
    "Instead, when we explicitly asked in a follow-up FOIA request for this information to be included, the person responding instructed us to consult the fields related to the investigation status and the current Uniform Crime Reporting (UCR or I-UCR for Illinois) code.\n",
    "\n",
    "When we summarize the status data, we find that more than 99% of reports are assigned \"CLOSED NON-CRIMINAL\". We believe this is the field CPD was using for its claim about how often people are located, which by expert opinion is strictly inadvisable and incredibly misleading if true. We discuss this opinion in detail and through examples in the first notebook."
   ]
  },
  {
   "cell_type": "markdown",
   "id": "d6dee04e-ee18-4ad8-9d7f-407d70642279",
   "metadata": {},
   "source": [
    "### Why does it matter?\n",
    "\n",
    "<br>\n",
    "\n",
    "Before digging into the technical details about the policy and data related to missing persons reports in Chicago, it behooves me to tell you why I think you should care about the questions we can't answer and what it could mean for the people in Chicago."
   ]
  },
  {
   "cell_type": "markdown",
   "id": "fea26bb4-77eb-466d-a504-753880edf3d3",
   "metadata": {},
   "source": [
    "#### Crime Prevention Initiatives\n",
    "\n",
    "<br>\n",
    "\n",
    "Meaningful crime prevention begins at the root of crime and with identifying those who are most vulnerable to becoming a victim or offender themself. Those who are in unsafe situations, who are experiencing a mental health crisis, trauma, or violence, are especially vulnerable to crime and may rely on effective community support to find secure housing that is physically and emotionally safe, financial stability, and opportunities for growth that can provide strong alternatives to and safety from crime.\n",
    "\n",
    "Crime prevention initiatives often use police data to support and guide policy. The city contracts the police department as the primary contact agency for most types of emergencies and dispatches officers through 911 call centers where calls for assistance are received. Both the call center and police keep some data on the requested and provided support from their agency. Later, when city leaders have questions about what the community needs and what issues are the most prevalent, each agency and their data will be consulted. When that information is then used to make a data-driven argument and affect policy, new public safety initiatives are built on the significance of the data and findings. However, as with all statistics and scientific findings, the real-world significance relies on the degree of validity made possible by the data collection and methodology, and this is not something we take for granted.\n",
    "\n",
    "For example, hypothetically and for the purpose of demonstrating how a change in interpretation might influence my reporting:\n",
    ">\n",
    ">Let’s say I have two columns. One has the timestamp associated with when a call came in and the other has the timestamp for when someone arrived on scene in response to the call.\n",
    ">\n",
    ">Suppose I want to report on the wait times between call and arrival. I obtain the data, take the difference between the two columns, and find that almost 30% of the arrival timestamps are missing so they’re left out of the calculations. For the cases which do have both data, about 70% were responded to between 12-24 hours.\n",
    ">\n",
    ">Now, if I assume that a missing timestamp means that someone did arrive but forgot to report doing so, then I’ll likely include that 30% in my report but not attach much significance to it. Chalk it up to underreporting, which we know happens, and focus on how the 12-24 hour window measures up to existing guidelines.\n",
    ">\n",
    ">However, if I don’t think that assumption is fair, and that a missing timestamp could reasonably be interpreted as a lack of arrival, then I might decide that the missing 30% should take a bigger role in my report as it could indicate a different or deeper problem than would otherwise have been suggested.\n",
    "\n",
    "Discussions of real-world significance and validity are broader than this, and worth having, but this is just an example of how a change in the interpretation of a field or its values could justifiably influence the findings."
   ]
  },
  {
   "cell_type": "markdown",
   "id": "0a914ee8-640b-4aa6-99a8-3a3ed892f74e",
   "metadata": {},
   "source": [
    "### Scientific Sins: How to manipulate data to fit an argument and get away with it\n",
    "\n",
    "<br>\n",
    "\n",
    "#### How do the experts evaluate data and data-driven arguments?\n",
    "The usefulness and real-world applicability of data-driven arguments is closely connected to adherence to basic scientific and research tenets, such as:\n",
    "\n",
    "- **Transparency:** Information about how the data were collected and used to produce the results is accessible and appears with the findings, along with comments about relevant limitations or caveats.\n",
    "- **Reproducibility:** Given the same dataset and using the same methods, others can reproduce the results and come to the same conclusions.\n",
    "- **Reliability:** The definitions and methods presented are an accurate representation of what was done overall and were consistent across contributors. That is to say nothing was left out and nobody deviated from these instructions in a way that could influence the results.\n",
    "- **Validity:** The interpretations and conclusions are reasonable to make given the data, results, and limitations. The conclusions are not overstated or applied too broadly given the constraints.\n",
    "- **Peer review:** The arguments survive the review of other experts in the subject and/or methodology.\n",
    "\n",
    "#### How do the experts recognize data and data-driven arguments that have been manipulated?\n",
    "When researchers and subject matter experts have questions about how reasonable a statistic in the headlines is given the work behind it and how its being used, they don't intuit this judgment, they begin a process of examining the original material produced by the people who did the work. Usually, this original material is in the form of a whitepaper which has a generally recognized outline and has gone through some peer review in order to be published somewhere.\n",
    "\n",
    "The greater the reported significance of a result, the more likely a reviewer is to be extra cautious about accepting its conclusions, leaning instead on their own consideration of the information and procedures and whether they feel clearly compelled towards the same conclusions. Barring that review process, when those reporting are stingy with the details and don't provide clear and consistent answers about the work, you can bet there will be an uphill battle convincing experts to recognize the findings."
   ]
  },
  {
   "cell_type": "markdown",
   "id": "0e456238-047c-4200-b369-26b00b66a3d6",
   "metadata": {},
   "source": [
    "# Making the 'data story'\n",
    "\n",
    "As we explored the simple questions, we encountered several issues that we could not resolve. We discuss these issues and many of our findings in a 4-part data story hosted in a [public GitHub repo](https://github.com/HRDAG/Chi-MP-data-story) and introduced broadly here.\n",
    "\n",
    "The series is organized as a walk-through of the data, as follows:\n",
    "\n",
    "<ol>\n",
    "<li>What is a \"Missing Person\" event? </li>\n",
    "<li>What happens as a result of an event? What is the expected response from the primary contact agency?</li>\n",
    "<li>Who is a \"Missing Person\" in CPD's data?</li>\n",
    "<li>What has to happen in order for a report to make it into the CPD database? Who is missing from the missing persons data?</li>\n",
    "</ol>"
   ]
  },
  {
   "cell_type": "markdown",
   "id": "0e43de09-46e8-4609-9adc-270094ccfe62",
   "metadata": {},
   "source": [
    "# Setup code"
   ]
  },
  {
   "cell_type": "code",
   "execution_count": 1,
   "id": "ee0d050e-2ad3-4400-a1c8-6d7cef5d01aa",
   "metadata": {},
   "outputs": [],
   "source": [
    "# dependencies\n",
    "import pandas as pd"
   ]
  },
  {
   "cell_type": "code",
   "execution_count": 2,
   "id": "4406fec8-3085-4995-9f54-1794b73f2b27",
   "metadata": {},
   "outputs": [],
   "source": [
    "# support methods"
   ]
  },
  {
   "cell_type": "code",
   "execution_count": 3,
   "id": "7b7594bd-0291-4ec1-8c4e-caf2e9846950",
   "metadata": {},
   "outputs": [],
   "source": [
    "# main\n",
    "mp = pd.read_parquet(\"../../data/cpd_mp.parquet\")\n",
    "cpd_hom = pd.read_excel(\"../../data/cpd_hom.parquet\",\n",
    "                        sheet_name='HOMICIDE VICS 2000-31JAN2023')\n",
    "me = pd.read_parquet(\"../../US-II-MP/export/output/deaths.parquet\")\n",
    "oemc = pd.read_parquet(\"../../US-II-MP/export/output/oemc_dispatch.parquet\")"
   ]
  },
  {
   "cell_type": "code",
   "execution_count": null,
   "id": "1a3d28c4-32b5-45cd-8925-1bcfbd7b75cb",
   "metadata": {},
   "outputs": [],
   "source": [
    "cpd_hom = cpd_hom"
   ]
  },
  {
   "cell_type": "markdown",
   "id": "a5910a2b-810e-462d-8c88-6e848fec79b8",
   "metadata": {},
   "source": [
    "# Preview data"
   ]
  },
  {
   "cell_type": "markdown",
   "id": "0f1ff6e1-31d8-41c7-9740-3669576245b5",
   "metadata": {},
   "source": [
    "### Chicage Police Department\n",
    "\n",
    "##### Missing Persons\n",
    "The CPD Missing Persons data we received, `mp`, is a collection of several database snapshots shared by CPD in several FOIA requests made over the course of the investigation. These FOIA requests asked for a copy of the database of missing persons reports or incidents originating as UCR code \"6050\". This dataset is used for much of the data story and to support fact-checking for the microsite and published Chicago Missing Persons story. \n",
    "\n",
    "##### Homicides\n",
    "We also received Homicide data from CPD, `hom`, which is a database snapshot shared by CPD in a FOIA request which asked for a copy of the database of incidents originally and/or currently classified as a Homicide. This dataset is used in the first data story notebook to verify some of the Record Linkage pieces that center some missing and murdered humans whose cases were widely publicized. There, we display and discuss what the city's missing persons, homicide, and medical examiner's data say about what happened in conjunction with what was public knowledge at the time and pursued in criminal court."
   ]
  },
  {
   "cell_type": "code",
   "execution_count": 7,
   "id": "52329173-cedb-4fbe-bb44-36e0b33913bb",
   "metadata": {},
   "outputs": [
    {
     "data": {
      "text/html": [
       "<div>\n",
       "<style scoped>\n",
       "    .dataframe tbody tr th:only-of-type {\n",
       "        vertical-align: middle;\n",
       "    }\n",
       "\n",
       "    .dataframe tbody tr th {\n",
       "        vertical-align: top;\n",
       "    }\n",
       "\n",
       "    .dataframe thead th {\n",
       "        text-align: right;\n",
       "    }\n",
       "</style>\n",
       "<table border=\"1\" class=\"dataframe\">\n",
       "  <thead>\n",
       "    <tr style=\"text-align: right;\">\n",
       "      <th></th>\n",
       "      <th>335263</th>\n",
       "    </tr>\n",
       "  </thead>\n",
       "  <tbody>\n",
       "    <tr>\n",
       "      <th>rd_no</th>\n",
       "      <td>JC103974</td>\n",
       "    </tr>\n",
       "    <tr>\n",
       "      <th>value_conflict</th>\n",
       "      <td>True</td>\n",
       "    </tr>\n",
       "    <tr>\n",
       "      <th>race</th>\n",
       "      <td>BLACK</td>\n",
       "    </tr>\n",
       "    <tr>\n",
       "      <th>sex</th>\n",
       "      <td>M</td>\n",
       "    </tr>\n",
       "    <tr>\n",
       "      <th>given_age_group</th>\n",
       "      <td>None</td>\n",
       "    </tr>\n",
       "    <tr>\n",
       "      <th>...</th>\n",
       "      <td>...</td>\n",
       "    </tr>\n",
       "    <tr>\n",
       "      <th>city_beat_occurred</th>\n",
       "      <td>4</td>\n",
       "    </tr>\n",
       "    <tr>\n",
       "      <th>no_beat_data</th>\n",
       "      <td>False</td>\n",
       "    </tr>\n",
       "    <tr>\n",
       "      <th>original_iucr</th>\n",
       "      <td>NaN</td>\n",
       "    </tr>\n",
       "    <tr>\n",
       "      <th>current_primary_class</th>\n",
       "      <td>None</td>\n",
       "    </tr>\n",
       "    <tr>\n",
       "      <th>current_secondary_class</th>\n",
       "      <td>None</td>\n",
       "    </tr>\n",
       "  </tbody>\n",
       "</table>\n",
       "<p>85 rows × 1 columns</p>\n",
       "</div>"
      ],
      "text/plain": [
       "                           335263\n",
       "rd_no                    JC103974\n",
       "value_conflict               True\n",
       "race                        BLACK\n",
       "sex                             M\n",
       "given_age_group              None\n",
       "...                           ...\n",
       "city_beat_occurred              4\n",
       "no_beat_data                False\n",
       "original_iucr                 NaN\n",
       "current_primary_class        None\n",
       "current_secondary_class      None\n",
       "\n",
       "[85 rows x 1 columns]"
      ]
     },
     "execution_count": 7,
     "metadata": {},
     "output_type": "execute_result"
    }
   ],
   "source": [
    "mp.sample().T"
   ]
  },
  {
   "cell_type": "markdown",
   "id": "8cb6dca0-94c3-4b6d-8c49-cc5d67d76de2",
   "metadata": {},
   "source": [
    "## Office of Emergency Management and Communication\n",
    "\n",
    "#### 911 calls and dispatch data\n",
    "In the course of the investigation, a copy of OEMC's 911 dispatch data, `oemc`, was requested and obtained. This data is used in the second notebook to explore how missing persons reports, or those with `init_type` of \"MISSING PERSON\" or \"MISSING PER. TENDER AGE\", that originate from a 911 call are prioritized and dispatched.\n",
    "\n",
    "##### ShotSpotter calls\n",
    "With `oemc`, we also explore the presence of \"SHOTSPOTTER\" in the dispatch data and compare the `init_priority` assigned to these calls and to missing persons calls in the second notebook. ShotSpotter, now \"SoundThinking\", is a surveillance technology that claims to be able to detect gunshots, which can enable police to respond to gun crimes that might have gone unreported. Activists in Chicago and other major U.S. cities where the technology is deployed have long been arguing against its use in over-policed neighborhoods, pointing out the broad, unsupported claims made by the company who sells it to police around the county. Organizations like the Macarthur Justice Center (MJC) have published findings that the majority of police dispatches originating as ShotSpotter calls resulted in \"dead-ends\", meaning not only no evidence of a gun crime, but no evidence of any crime was recovered. Our analysis documents that the most common priority code for ShotSpotter dispatches during the 4 years for which we have data was \"1A\", or \"IMMEDIATE DISPATCH\". 911 calls to report a missing person were most often assigned \"3C\", or \"ROUTINE DISPATCH\". In the section where we discuss this findings, we compare the timeline of MJC's report with our data to estimate the number of \"dead-end\" ShotSpotter dispatches that took place at the same time as some of the missing persons reports."
   ]
  },
  {
   "cell_type": "code",
   "execution_count": null,
   "id": "5aa7bc40-8a17-4259-b806-17cb2b5667a0",
   "metadata": {},
   "outputs": [],
   "source": [
    "oemc.sample().T"
   ]
  },
  {
   "cell_type": "markdown",
   "id": "c8c9de36-26f9-4560-b3d5-3eeedbdcf1bb",
   "metadata": {},
   "source": [
    "## Cook County Medical Examiner\n",
    "#### Death data\n",
    "In the course of the investigation, a copy of the County Medical Examiner's database, `me` was requested for cases where the manner of death was determined to be homicide. We reference `me` in the Record Linkage section of the first notebook where we look up the city's data on a few specific cases that made headlines. "
   ]
  },
  {
   "cell_type": "code",
   "execution_count": null,
   "id": "e345ce67-859d-43aa-bae0-614fcfb2524e",
   "metadata": {},
   "outputs": [],
   "source": [
    "me.sample().T"
   ]
  },
  {
   "cell_type": "markdown",
   "id": "e6733007-7bce-4033-8806-8e730e03bf3f",
   "metadata": {},
   "source": [
    "Conclusion\n",
    "The use of a police department’s data to inform policy places a burden on the department’s data collection practices to be accurate and representative of the truth, transparent and consistent about what information is tracked in what fields, and knowledgeable about possible constraints and limitations. As far as the Chicago Police Department’s missing persons data is concerned, in the minds of the people who have been reviewing it for more than two years, there is an outstanding question about whether these cases have been resolved or systemically undermined. \n",
    "Here is a specific example of something could suggest systemic undermining of missing persons cases:\n",
    "In the Case Supplementary Report where an officer provided the final update to 12 year old Jahmeshia Conner’s missing person report, they wrote that:\n",
    "> “The complainant [her mother] positively identified the missing at the Medical Examiners Office. The missing is now the subject of an ongoing Homicide investigation HR-666816. This investigation is closed non criminal.”\n",
    "How has the phrase, “non criminal”, been stretched to include this case which is documented as connected to a serious crime and loss of the missing’s life? Or, is this a singular erroneous classification by an individual officer which was not caught by the approving supervisor?\n",
    "When crime prevention initiatives fail, the people most harmed are the vulnerable who have the greatest stake in such initiatives working. When the arguments that inform these policies are built on data which have not been constructed consistently and ha"
   ]
  },
  {
   "cell_type": "markdown",
   "id": "016884b1-d2e9-4b52-bb5b-114aaf3d0094",
   "metadata": {},
   "source": [
    "# Conclusion\n",
    "\n",
    "Despite the increasing militarization of American police departments and the perpetuation of this as a \"necessity for public safety\", much of the work of a first responder is deskwork and book-keeping. Police acting as first responders are often the primary or even exclusive agency tasked with responding to emergent needs from our communities and building bodies of evidence that can be used to hold those doing harm to others accountable.\n",
    "\n",
    "This deskwork creates the paper trail that city representatives, as well as journalists and researchers, regularly rely on when they look for details of what happened for the purpose of studying different kinds of emergencies and informing our future understanding of community safety needs. Supporting the police's desire to don tactical gear and troll the streets for gun fights and high speed car chases without requiring accountability for the quality of the documentation of their actions in response to calls for help is "
   ]
  },
  {
   "cell_type": "markdown",
   "id": "ad728a64-d0c4-48ab-8720-b3120c85fced",
   "metadata": {},
   "source": [
    "While I focus on the Chicago Missing Persons Story and data from state agencies CPD, OEMC, and the Cook County Medical Examiner in this piece, I want to be clear that challenges with record-keeping are not isolated to Chicago and these 3 agencies. Much of HRDAG's 30 years of designing data processing steps to document human rights violations around the world has involved diving into the data collection methods of a given dataset, how they might have influenced what each field means in practice, and how these realities limit what analysis is possible. Although techniques like MSE are sometimes feasible and help us estimate some lost information, they cannot be used to recover precise information for a whole dataset such as a field that does not exist. If the appropriate data for desired analysis is not available, the burden to enable such analysis falls on the agency doing the data collection to improve methods and begin tracking the necessary information.\n",
    "\n",
    "As state agencies attempt to modernize and produce their own open data portals and data-driven arguments, HRDAG is uniquely positioned to analyze their data and evaluate whether such claims are accurate or reasonable to make. Like we see in Chicago with missing persons, even in places where legislation exists that explicitly dictates data collection is intended to support statistical analysis, database systems are often designed in collaboration with the agencies themselves and are heavily influenced by the working objectives of the agency rather than the priorities informed by law and the desired analysis. It may be assumed by policy makers that this would not be prohibitive or hindering for the later analysis but that is, unfortunately, not a reasonable assumption to make. In the case of CPD's data as described above and in later notebooks, CPD had an opportunity to add additional data entry fields to improve their own case management and to be compliant with the law and a 2017 DOJ investigation's findings that criticized their data collection and transparency, but instead continued to rely on their own investigative fields, fields that characterize the missing in a way that promotes bias, and requiring the public to believe their claims without question - an extremely predictable move for an agency in a position of such power. In the case of missing persons investigations and lacking information about who was located, the problem is far graver than analysis that we can't do and carries concerning if not tragic implications for the situations where these agencies are relied upon to provide a service to a community whose tax dollars fund its existence."
   ]
  },
  {
   "cell_type": "code",
   "execution_count": null,
   "id": "7c48135a-bcd9-4722-83f9-69e4478ff2e5",
   "metadata": {},
   "outputs": [],
   "source": []
  }
 ],
 "metadata": {
  "kernelspec": {
   "display_name": "Python 3 (ipykernel)",
   "language": "python",
   "name": "python3"
  },
  "language_info": {
   "codemirror_mode": {
    "name": "ipython",
    "version": 3
   },
   "file_extension": ".py",
   "mimetype": "text/x-python",
   "name": "python",
   "nbconvert_exporter": "python",
   "pygments_lexer": "ipython3",
   "version": "3.12.2"
  }
 },
 "nbformat": 4,
 "nbformat_minor": 5
}
