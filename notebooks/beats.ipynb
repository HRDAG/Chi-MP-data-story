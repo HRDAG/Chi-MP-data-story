{
 "cells": [
  {
   "cell_type": "markdown",
   "id": "a2db88a7",
   "metadata": {},
   "source": [
    "# What is an event?\n",
    "\n",
    "- Primary: TRT\n",
    "- Secondary: BP\n",
    "- other authors still welcome!\n",
    "\n",
    "To start a discussion of the data story behind missing persons reports, it behooves us to define the basic unit of the thing we're talking about. What info must we have to 'observe' a missing person report?\n",
    "\n",
    "At HRDAG, we typically design a dataset around the question \"Who did what to whom?\" However, these records don't include perpetrators as the 'who', so we're going to modify this to \"Who was last seen where?\" This means we should have at least:\n",
    "- date last seen (AKA date occurred)\n",
    "- location last seen (AKA address)\n",
    "- some details on the missing person (this will be covered as its own topic)\n",
    "\n",
    "Let's go through the data shared by Chicago Police representing documented missing persons reports and dig more into these events."
   ]
  },
  {
   "cell_type": "code",
   "execution_count": 1,
   "id": "18c1f4b7",
   "metadata": {},
   "outputs": [
    {
     "name": "stderr",
     "output_type": "stream",
     "text": [
      "<frozen importlib._bootstrap>:241: RuntimeWarning: scipy._lib.messagestream.MessageStream size changed, may indicate binary incompatibility. Expected 56 from C header, got 64 from PyObject\n"
     ]
    }
   ],
   "source": [
    "# dependencies\n",
    "import pandas as pd\n",
    "import matplotlib.pyplot as plt \n",
    "\n",
    "import geopandas as gpd\n",
    "from mpl_toolkits.axes_grid1 import make_axes_locatable \n",
    "import geoplot as gplt\n",
    "import geoplot.crs as gcrs\n",
    "import mapclassify as mc"
   ]
  },
  {
   "cell_type": "code",
   "execution_count": 3,
   "id": "ed7cd47d",
   "metadata": {},
   "outputs": [],
   "source": [
    "# support methods"
   ]
  },
  {
   "cell_type": "code",
   "execution_count": 2,
   "id": "e70363eb",
   "metadata": {},
   "outputs": [
    {
     "ename": "FileNotFoundError",
     "evalue": "[Errno 2] No such file or directory: '../import/output/mp.parquet'",
     "output_type": "error",
     "traceback": [
      "\u001b[0;31m---------------------------------------------------------------------------\u001b[0m",
      "\u001b[0;31mFileNotFoundError\u001b[0m                         Traceback (most recent call last)",
      "Cell \u001b[0;32mIn[2], line 1\u001b[0m\n\u001b[0;32m----> 1\u001b[0m mp \u001b[38;5;241m=\u001b[39m \u001b[43mpd\u001b[49m\u001b[38;5;241;43m.\u001b[39;49m\u001b[43mread_parquet\u001b[49m\u001b[43m(\u001b[49m\u001b[38;5;124;43m\"\u001b[39;49m\u001b[38;5;124;43m../import/output/mp.parquet\u001b[39;49m\u001b[38;5;124;43m\"\u001b[39;49m\u001b[43m)\u001b[49m\n\u001b[1;32m      2\u001b[0m extras \u001b[38;5;241m=\u001b[39m pd\u001b[38;5;241m.\u001b[39mread_parquet(\u001b[38;5;124m\"\u001b[39m\u001b[38;5;124m../import/input/extras.parquet\u001b[39m\u001b[38;5;124m\"\u001b[39m)\n\u001b[1;32m      4\u001b[0m city_beats \u001b[38;5;241m=\u001b[39m pd\u001b[38;5;241m.\u001b[39mread_csv(\u001b[38;5;124m\"\u001b[39m\u001b[38;5;124m../import/input/PoliceBeatDec2012.csv\u001b[39m\u001b[38;5;124m\"\u001b[39m)\n",
      "File \u001b[0;32m/opt/homebrew/Caskroom/miniforge/base/lib/python3.10/site-packages/pandas/io/parquet.py:509\u001b[0m, in \u001b[0;36mread_parquet\u001b[0;34m(path, engine, columns, storage_options, use_nullable_dtypes, dtype_backend, **kwargs)\u001b[0m\n\u001b[1;32m    506\u001b[0m     use_nullable_dtypes \u001b[38;5;241m=\u001b[39m \u001b[38;5;28;01mFalse\u001b[39;00m\n\u001b[1;32m    507\u001b[0m check_dtype_backend(dtype_backend)\n\u001b[0;32m--> 509\u001b[0m \u001b[38;5;28;01mreturn\u001b[39;00m \u001b[43mimpl\u001b[49m\u001b[38;5;241;43m.\u001b[39;49m\u001b[43mread\u001b[49m\u001b[43m(\u001b[49m\n\u001b[1;32m    510\u001b[0m \u001b[43m    \u001b[49m\u001b[43mpath\u001b[49m\u001b[43m,\u001b[49m\n\u001b[1;32m    511\u001b[0m \u001b[43m    \u001b[49m\u001b[43mcolumns\u001b[49m\u001b[38;5;241;43m=\u001b[39;49m\u001b[43mcolumns\u001b[49m\u001b[43m,\u001b[49m\n\u001b[1;32m    512\u001b[0m \u001b[43m    \u001b[49m\u001b[43mstorage_options\u001b[49m\u001b[38;5;241;43m=\u001b[39;49m\u001b[43mstorage_options\u001b[49m\u001b[43m,\u001b[49m\n\u001b[1;32m    513\u001b[0m \u001b[43m    \u001b[49m\u001b[43muse_nullable_dtypes\u001b[49m\u001b[38;5;241;43m=\u001b[39;49m\u001b[43muse_nullable_dtypes\u001b[49m\u001b[43m,\u001b[49m\n\u001b[1;32m    514\u001b[0m \u001b[43m    \u001b[49m\u001b[43mdtype_backend\u001b[49m\u001b[38;5;241;43m=\u001b[39;49m\u001b[43mdtype_backend\u001b[49m\u001b[43m,\u001b[49m\n\u001b[1;32m    515\u001b[0m \u001b[43m    \u001b[49m\u001b[38;5;241;43m*\u001b[39;49m\u001b[38;5;241;43m*\u001b[39;49m\u001b[43mkwargs\u001b[49m\u001b[43m,\u001b[49m\n\u001b[1;32m    516\u001b[0m \u001b[43m\u001b[49m\u001b[43m)\u001b[49m\n",
      "File \u001b[0;32m/opt/homebrew/Caskroom/miniforge/base/lib/python3.10/site-packages/pandas/io/parquet.py:220\u001b[0m, in \u001b[0;36mPyArrowImpl.read\u001b[0;34m(self, path, columns, use_nullable_dtypes, dtype_backend, storage_options, **kwargs)\u001b[0m\n\u001b[1;32m    217\u001b[0m \u001b[38;5;28;01mif\u001b[39;00m manager \u001b[38;5;241m==\u001b[39m \u001b[38;5;124m\"\u001b[39m\u001b[38;5;124marray\u001b[39m\u001b[38;5;124m\"\u001b[39m:\n\u001b[1;32m    218\u001b[0m     to_pandas_kwargs[\u001b[38;5;124m\"\u001b[39m\u001b[38;5;124msplit_blocks\u001b[39m\u001b[38;5;124m\"\u001b[39m] \u001b[38;5;241m=\u001b[39m \u001b[38;5;28;01mTrue\u001b[39;00m  \u001b[38;5;66;03m# type: ignore[assignment]\u001b[39;00m\n\u001b[0;32m--> 220\u001b[0m path_or_handle, handles, kwargs[\u001b[38;5;124m\"\u001b[39m\u001b[38;5;124mfilesystem\u001b[39m\u001b[38;5;124m\"\u001b[39m] \u001b[38;5;241m=\u001b[39m \u001b[43m_get_path_or_handle\u001b[49m\u001b[43m(\u001b[49m\n\u001b[1;32m    221\u001b[0m \u001b[43m    \u001b[49m\u001b[43mpath\u001b[49m\u001b[43m,\u001b[49m\n\u001b[1;32m    222\u001b[0m \u001b[43m    \u001b[49m\u001b[43mkwargs\u001b[49m\u001b[38;5;241;43m.\u001b[39;49m\u001b[43mpop\u001b[49m\u001b[43m(\u001b[49m\u001b[38;5;124;43m\"\u001b[39;49m\u001b[38;5;124;43mfilesystem\u001b[39;49m\u001b[38;5;124;43m\"\u001b[39;49m\u001b[43m,\u001b[49m\u001b[43m \u001b[49m\u001b[38;5;28;43;01mNone\u001b[39;49;00m\u001b[43m)\u001b[49m\u001b[43m,\u001b[49m\n\u001b[1;32m    223\u001b[0m \u001b[43m    \u001b[49m\u001b[43mstorage_options\u001b[49m\u001b[38;5;241;43m=\u001b[39;49m\u001b[43mstorage_options\u001b[49m\u001b[43m,\u001b[49m\n\u001b[1;32m    224\u001b[0m \u001b[43m    \u001b[49m\u001b[43mmode\u001b[49m\u001b[38;5;241;43m=\u001b[39;49m\u001b[38;5;124;43m\"\u001b[39;49m\u001b[38;5;124;43mrb\u001b[39;49m\u001b[38;5;124;43m\"\u001b[39;49m\u001b[43m,\u001b[49m\n\u001b[1;32m    225\u001b[0m \u001b[43m\u001b[49m\u001b[43m)\u001b[49m\n\u001b[1;32m    226\u001b[0m \u001b[38;5;28;01mtry\u001b[39;00m:\n\u001b[1;32m    227\u001b[0m     pa_table \u001b[38;5;241m=\u001b[39m \u001b[38;5;28mself\u001b[39m\u001b[38;5;241m.\u001b[39mapi\u001b[38;5;241m.\u001b[39mparquet\u001b[38;5;241m.\u001b[39mread_table(\n\u001b[1;32m    228\u001b[0m         path_or_handle, columns\u001b[38;5;241m=\u001b[39mcolumns, \u001b[38;5;241m*\u001b[39m\u001b[38;5;241m*\u001b[39mkwargs\n\u001b[1;32m    229\u001b[0m     )\n",
      "File \u001b[0;32m/opt/homebrew/Caskroom/miniforge/base/lib/python3.10/site-packages/pandas/io/parquet.py:110\u001b[0m, in \u001b[0;36m_get_path_or_handle\u001b[0;34m(path, fs, storage_options, mode, is_dir)\u001b[0m\n\u001b[1;32m    100\u001b[0m handles \u001b[38;5;241m=\u001b[39m \u001b[38;5;28;01mNone\u001b[39;00m\n\u001b[1;32m    101\u001b[0m \u001b[38;5;28;01mif\u001b[39;00m (\n\u001b[1;32m    102\u001b[0m     \u001b[38;5;129;01mnot\u001b[39;00m fs\n\u001b[1;32m    103\u001b[0m     \u001b[38;5;129;01mand\u001b[39;00m \u001b[38;5;129;01mnot\u001b[39;00m is_dir\n\u001b[0;32m   (...)\u001b[0m\n\u001b[1;32m    108\u001b[0m     \u001b[38;5;66;03m# fsspec resources can also point to directories\u001b[39;00m\n\u001b[1;32m    109\u001b[0m     \u001b[38;5;66;03m# this branch is used for example when reading from non-fsspec URLs\u001b[39;00m\n\u001b[0;32m--> 110\u001b[0m     handles \u001b[38;5;241m=\u001b[39m \u001b[43mget_handle\u001b[49m\u001b[43m(\u001b[49m\n\u001b[1;32m    111\u001b[0m \u001b[43m        \u001b[49m\u001b[43mpath_or_handle\u001b[49m\u001b[43m,\u001b[49m\u001b[43m \u001b[49m\u001b[43mmode\u001b[49m\u001b[43m,\u001b[49m\u001b[43m \u001b[49m\u001b[43mis_text\u001b[49m\u001b[38;5;241;43m=\u001b[39;49m\u001b[38;5;28;43;01mFalse\u001b[39;49;00m\u001b[43m,\u001b[49m\u001b[43m \u001b[49m\u001b[43mstorage_options\u001b[49m\u001b[38;5;241;43m=\u001b[39;49m\u001b[43mstorage_options\u001b[49m\n\u001b[1;32m    112\u001b[0m \u001b[43m    \u001b[49m\u001b[43m)\u001b[49m\n\u001b[1;32m    113\u001b[0m     fs \u001b[38;5;241m=\u001b[39m \u001b[38;5;28;01mNone\u001b[39;00m\n\u001b[1;32m    114\u001b[0m     path_or_handle \u001b[38;5;241m=\u001b[39m handles\u001b[38;5;241m.\u001b[39mhandle\n",
      "File \u001b[0;32m/opt/homebrew/Caskroom/miniforge/base/lib/python3.10/site-packages/pandas/io/common.py:868\u001b[0m, in \u001b[0;36mget_handle\u001b[0;34m(path_or_buf, mode, encoding, compression, memory_map, is_text, errors, storage_options)\u001b[0m\n\u001b[1;32m    859\u001b[0m         handle \u001b[38;5;241m=\u001b[39m \u001b[38;5;28mopen\u001b[39m(\n\u001b[1;32m    860\u001b[0m             handle,\n\u001b[1;32m    861\u001b[0m             ioargs\u001b[38;5;241m.\u001b[39mmode,\n\u001b[0;32m   (...)\u001b[0m\n\u001b[1;32m    864\u001b[0m             newline\u001b[38;5;241m=\u001b[39m\u001b[38;5;124m\"\u001b[39m\u001b[38;5;124m\"\u001b[39m,\n\u001b[1;32m    865\u001b[0m         )\n\u001b[1;32m    866\u001b[0m     \u001b[38;5;28;01melse\u001b[39;00m:\n\u001b[1;32m    867\u001b[0m         \u001b[38;5;66;03m# Binary mode\u001b[39;00m\n\u001b[0;32m--> 868\u001b[0m         handle \u001b[38;5;241m=\u001b[39m \u001b[38;5;28;43mopen\u001b[39;49m\u001b[43m(\u001b[49m\u001b[43mhandle\u001b[49m\u001b[43m,\u001b[49m\u001b[43m \u001b[49m\u001b[43mioargs\u001b[49m\u001b[38;5;241;43m.\u001b[39;49m\u001b[43mmode\u001b[49m\u001b[43m)\u001b[49m\n\u001b[1;32m    869\u001b[0m     handles\u001b[38;5;241m.\u001b[39mappend(handle)\n\u001b[1;32m    871\u001b[0m \u001b[38;5;66;03m# Convert BytesIO or file objects passed with an encoding\u001b[39;00m\n",
      "\u001b[0;31mFileNotFoundError\u001b[0m: [Errno 2] No such file or directory: '../import/output/mp.parquet'"
     ]
    }
   ],
   "source": [
    "mp = pd.read_parquet(\"../import/output/mp.parquet\")\n",
    "extras = pd.read_parquet(\"../import/input/extras.parquet\")\n",
    "\n",
    "city_beats = pd.read_csv(\"../import/input/PoliceBeatDec2012.csv\")\n",
    "geobeats = gpd.read_file(\"../import/input/PoliceBeatsDec2012_1.kmz\")\n",
    "geobeats"
   ]
  },
  {
   "cell_type": "code",
   "execution_count": 4,
   "id": "be2fe71c",
   "metadata": {},
   "outputs": [
    {
     "data": {
      "text/html": [
       "<div>\n",
       "<style scoped>\n",
       "    .dataframe tbody tr th:only-of-type {\n",
       "        vertical-align: middle;\n",
       "    }\n",
       "\n",
       "    .dataframe tbody tr th {\n",
       "        vertical-align: top;\n",
       "    }\n",
       "\n",
       "    .dataframe thead th {\n",
       "        text-align: right;\n",
       "    }\n",
       "</style>\n",
       "<table border=\"1\" class=\"dataframe\">\n",
       "  <thead>\n",
       "    <tr style=\"text-align: right;\">\n",
       "      <th></th>\n",
       "      <th>rd_no</th>\n",
       "      <th>date_occurred</th>\n",
       "      <th>race</th>\n",
       "      <th>sex</th>\n",
       "      <th>age_group</th>\n",
       "    </tr>\n",
       "  </thead>\n",
       "  <tbody>\n",
       "    <tr>\n",
       "      <th>302401</th>\n",
       "      <td>HS283118</td>\n",
       "      <td>2010-04-29 16:40:00</td>\n",
       "      <td>BLACK</td>\n",
       "      <td>M</td>\n",
       "      <td>youth (10-20)</td>\n",
       "    </tr>\n",
       "    <tr>\n",
       "      <th>145528</th>\n",
       "      <td>HJ344336</td>\n",
       "      <td>2003-05-04 19:00:00</td>\n",
       "      <td>WHITE HISPANIC</td>\n",
       "      <td>F</td>\n",
       "      <td>youth (10-20)</td>\n",
       "    </tr>\n",
       "    <tr>\n",
       "      <th>208686</th>\n",
       "      <td>F452379</td>\n",
       "      <td>2000-07-25 18:20:00</td>\n",
       "      <td>WHITE</td>\n",
       "      <td>M</td>\n",
       "      <td>youth (10-20)</td>\n",
       "    </tr>\n",
       "    <tr>\n",
       "      <th>187291</th>\n",
       "      <td>G433946</td>\n",
       "      <td>2001-07-23 15:00:00</td>\n",
       "      <td>BLACK</td>\n",
       "      <td>F</td>\n",
       "      <td>youth (10-20)</td>\n",
       "    </tr>\n",
       "    <tr>\n",
       "      <th>38422</th>\n",
       "      <td>JC366146</td>\n",
       "      <td>2019-07-26 21:45:00</td>\n",
       "      <td>BLACK</td>\n",
       "      <td>M</td>\n",
       "      <td>adult (21-59)</td>\n",
       "    </tr>\n",
       "  </tbody>\n",
       "</table>\n",
       "</div>"
      ],
      "text/plain": [
       "           rd_no       date_occurred            race sex      age_group\n",
       "302401  HS283118 2010-04-29 16:40:00           BLACK   M  youth (10-20)\n",
       "145528  HJ344336 2003-05-04 19:00:00  WHITE HISPANIC   F  youth (10-20)\n",
       "208686   F452379 2000-07-25 18:20:00           WHITE   M  youth (10-20)\n",
       "187291   G433946 2001-07-23 15:00:00           BLACK   F  youth (10-20)\n",
       "38422   JC366146 2019-07-26 21:45:00           BLACK   M  adult (21-59)"
      ]
     },
     "execution_count": 4,
     "metadata": {},
     "output_type": "execute_result"
    }
   ],
   "source": [
    "mp.sample(5)[['rd_no', 'date_occurred', 'race', 'sex', 'age_group']]"
   ]
  },
  {
   "cell_type": "markdown",
   "id": "203fa7ef",
   "metadata": {},
   "source": [
    "### person identifiers & the `rd` field\n",
    "When the Chicago Police Department is made aware of a report of a missing person, policy dictates that an officer goes to the scene (or takes a call in the station?) and verifies whether the report is a \"Bona Fide\" missing persons case. If it is, the officer is meant to generate a Missing Person Incident Report for each individual involved.\n",
    "\n",
    "Importantly, each Incident Report created by CPD has its own `rd` or record number, which can be treated as a unique identifier for each unique person in the event - _if it's true that only one person was described in the Incident Report._ As we go through the records shared by CPD, we observe a couple dozen reports between 1 January 2000 and 31 December 2021 for which it appears this is not the case."
   ]
  },
  {
   "cell_type": "code",
   "execution_count": 5,
   "id": "8ac0ec2a",
   "metadata": {},
   "outputs": [
    {
     "data": {
      "text/plain": [
       "355053"
      ]
     },
     "execution_count": 5,
     "metadata": {},
     "output_type": "execute_result"
    }
   ],
   "source": [
    "# how many unique `rd` numbers do we observe?\n",
    "len(mp.rd_no.unique())"
   ]
  },
  {
   "cell_type": "markdown",
   "id": "807b70c1",
   "metadata": {},
   "source": [
    "For example, `rd_no` 'JA172886' has the same last seen date and last seen location in several rows of data, but the person details describe two distinct individuals:\n",
    "\n",
    "* Person A is a 32 year old person born in 1985, no race documented\n",
    "* Person B is a 22 year old Black person born in 1995\n",
    "\n",
    "If we were to look only at this data and speculate about possible explanations, we could imagine that an officer got some poor or incomplete information initially, and later received new information about the case and updated the incident to describe the correct individual. Maybe the initial filing had typos in the age and birth year, and those were updated accurately. In either case, one of those persons described is not a real MP, and we should disregard those records.\n",
    "\n",
    "Alternatively, if we do not assume that policy is always followed, then we can believe that this is an example of a record number being assigned to more than one missing person. But we want to be more scientific about this process than a simple guess, so to follow up on our theory, we submitted FOIA requests for a sample of the `rd_no`s where we believed more than one human was described in the same Incident Report, including JA172886. \n",
    "In the case of JA172886, there is a handwritten Incident Report including a narrative field, as well as a digital Supplementary Incident Report. In the narrative and digital records, two distinct humans are described as the subjects of the investigation. One is a 32 year old female with no documented race and the other is a 22 year old Black female. "
   ]
  },
  {
   "cell_type": "code",
   "execution_count": 6,
   "id": "1bb87b56",
   "metadata": {
    "scrolled": false
   },
   "outputs": [
    {
     "data": {
      "text/plain": [
       "94"
      ]
     },
     "execution_count": 6,
     "metadata": {},
     "output_type": "execute_result"
    }
   ],
   "source": [
    "base_demo = ['rd_no', 'date_occurred', 'race', 'sex', \n",
    "             'age', 'age_group', 'year_of_birth',]\n",
    "vc_cols = [col for col in extras.columns if ('vc_' in col) & (any(extras[col]))]\n",
    "shared_rd = extras.loc[(extras.race.str.contains(\"|\")) | \n",
    "                       (extras.sex.str.contains(\"|\")) | \n",
    "                       (extras.age.str.contains(\"|\")) | \n",
    "                       (extras.age_group.str.contains(\"|\")),\n",
    "                       base_demo]\n",
    "# how many unique `rd` numbers are candidates for being shared by multiple missing humans?\n",
    "shared_rd.shape[0]"
   ]
  },
  {
   "cell_type": "code",
   "execution_count": 7,
   "id": "2cef0f1e",
   "metadata": {},
   "outputs": [
    {
     "data": {
      "text/html": [
       "<div>\n",
       "<style scoped>\n",
       "    .dataframe tbody tr th:only-of-type {\n",
       "        vertical-align: middle;\n",
       "    }\n",
       "\n",
       "    .dataframe tbody tr th {\n",
       "        vertical-align: top;\n",
       "    }\n",
       "\n",
       "    .dataframe thead th {\n",
       "        text-align: right;\n",
       "    }\n",
       "</style>\n",
       "<table border=\"1\" class=\"dataframe\">\n",
       "  <thead>\n",
       "    <tr style=\"text-align: right;\">\n",
       "      <th></th>\n",
       "      <th>rd_no</th>\n",
       "      <th>date_occurred</th>\n",
       "      <th>race</th>\n",
       "      <th>sex</th>\n",
       "      <th>age</th>\n",
       "      <th>age_group</th>\n",
       "      <th>year_of_birth</th>\n",
       "    </tr>\n",
       "  </thead>\n",
       "  <tbody>\n",
       "    <tr>\n",
       "      <th>182325</th>\n",
       "      <td>JD339930</td>\n",
       "      <td>None</td>\n",
       "      <td>WHITE|WHITE HISPANIC</td>\n",
       "      <td>None</td>\n",
       "      <td>None</td>\n",
       "      <td>None</td>\n",
       "      <td>None</td>\n",
       "    </tr>\n",
       "    <tr>\n",
       "      <th>17781</th>\n",
       "      <td>HK751589</td>\n",
       "      <td>None</td>\n",
       "      <td>None</td>\n",
       "      <td>None</td>\n",
       "      <td>15.0|16.0</td>\n",
       "      <td>None</td>\n",
       "      <td>1988|1989</td>\n",
       "    </tr>\n",
       "    <tr>\n",
       "      <th>40920</th>\n",
       "      <td>HJ723804</td>\n",
       "      <td>None</td>\n",
       "      <td>None</td>\n",
       "      <td>None</td>\n",
       "      <td>14.0|15.0</td>\n",
       "      <td>None</td>\n",
       "      <td>None</td>\n",
       "    </tr>\n",
       "    <tr>\n",
       "      <th>103717</th>\n",
       "      <td>G460556</td>\n",
       "      <td>None</td>\n",
       "      <td>None</td>\n",
       "      <td>F|M</td>\n",
       "      <td>3.0|8.0|21.0</td>\n",
       "      <td>0-9|17-30</td>\n",
       "      <td>1979|1997|2000</td>\n",
       "    </tr>\n",
       "    <tr>\n",
       "      <th>266169</th>\n",
       "      <td>F125169</td>\n",
       "      <td>None</td>\n",
       "      <td>None</td>\n",
       "      <td>None</td>\n",
       "      <td>17.0|18.0</td>\n",
       "      <td>None</td>\n",
       "      <td>1981|1982</td>\n",
       "    </tr>\n",
       "    <tr>\n",
       "      <th>117207</th>\n",
       "      <td>JC140559</td>\n",
       "      <td>None</td>\n",
       "      <td>BLACK|WHITE</td>\n",
       "      <td>None</td>\n",
       "      <td>None</td>\n",
       "      <td>None</td>\n",
       "      <td>None</td>\n",
       "    </tr>\n",
       "    <tr>\n",
       "      <th>92545</th>\n",
       "      <td>F151535</td>\n",
       "      <td>None</td>\n",
       "      <td>BLACK|WHITE HISPANIC</td>\n",
       "      <td>None</td>\n",
       "      <td>None</td>\n",
       "      <td>None</td>\n",
       "      <td>None</td>\n",
       "    </tr>\n",
       "    <tr>\n",
       "      <th>188660</th>\n",
       "      <td>HL306817</td>\n",
       "      <td>None</td>\n",
       "      <td>BLACK|WHITE</td>\n",
       "      <td>None</td>\n",
       "      <td>None</td>\n",
       "      <td>None</td>\n",
       "      <td>None</td>\n",
       "    </tr>\n",
       "    <tr>\n",
       "      <th>232489</th>\n",
       "      <td>HH123520</td>\n",
       "      <td>None</td>\n",
       "      <td>None</td>\n",
       "      <td>None</td>\n",
       "      <td>12.0|17.0</td>\n",
       "      <td>None</td>\n",
       "      <td>1984|1989</td>\n",
       "    </tr>\n",
       "    <tr>\n",
       "      <th>178079</th>\n",
       "      <td>HN291179</td>\n",
       "      <td>None</td>\n",
       "      <td>None</td>\n",
       "      <td>None</td>\n",
       "      <td>14.0|15.0</td>\n",
       "      <td>None</td>\n",
       "      <td>None</td>\n",
       "    </tr>\n",
       "  </tbody>\n",
       "</table>\n",
       "</div>"
      ],
      "text/plain": [
       "           rd_no date_occurred                  race   sex           age  \\\n",
       "182325  JD339930          None  WHITE|WHITE HISPANIC  None          None   \n",
       "17781   HK751589          None                  None  None     15.0|16.0   \n",
       "40920   HJ723804          None                  None  None     14.0|15.0   \n",
       "103717   G460556          None                  None   F|M  3.0|8.0|21.0   \n",
       "266169   F125169          None                  None  None     17.0|18.0   \n",
       "117207  JC140559          None           BLACK|WHITE  None          None   \n",
       "92545    F151535          None  BLACK|WHITE HISPANIC  None          None   \n",
       "188660  HL306817          None           BLACK|WHITE  None          None   \n",
       "232489  HH123520          None                  None  None     12.0|17.0   \n",
       "178079  HN291179          None                  None  None     14.0|15.0   \n",
       "\n",
       "        age_group   year_of_birth  \n",
       "182325       None            None  \n",
       "17781        None       1988|1989  \n",
       "40920        None            None  \n",
       "103717  0-9|17-30  1979|1997|2000  \n",
       "266169       None       1981|1982  \n",
       "117207       None            None  \n",
       "92545        None            None  \n",
       "188660       None            None  \n",
       "232489       None       1984|1989  \n",
       "178079       None            None  "
      ]
     },
     "execution_count": 7,
     "metadata": {},
     "output_type": "execute_result"
    }
   ],
   "source": [
    "# preview sample of the candidate records\n",
    "shared_rd.sample(10)"
   ]
  },
  {
   "cell_type": "code",
   "execution_count": 8,
   "id": "c91ca26d",
   "metadata": {},
   "outputs": [
    {
     "data": {
      "text/plain": [
       "17254"
      ]
     },
     "execution_count": 8,
     "metadata": {},
     "output_type": "execute_result"
    }
   ],
   "source": [
    "# if we ignore `rd`, how many records would be flagged as sharing `date_occurred` and `address`?\n",
    "mp.shape[0] - mp.loc[mp.address.str.strip() != \"CHICAGO\", \n",
    "                     ['date_occurred', 'address']\n",
    "                    ].drop_duplicates().shape[0]"
   ]
  },
  {
   "cell_type": "markdown",
   "id": "2295632e",
   "metadata": {},
   "source": [
    "- one possible explanation is that records sharing a last seen date and address represent events where more than one person was reported missing, and CPD correctly assigned distinct `rd` numbers for each individual. If true, these records will be handled correctly by our data processing pipeline and each human will be represented in our final table.\n",
    "- we have also been told by staff at foster and group homes (who are often the ones making these reports for the youth in their care) that sometimes when they call to get updates on a previous report and provide the assigned `rd` they had been given originally, they are told by a representative that \"that is no longer the `rd` number\" for that case. In these instances, they're often given a new `rd` that is supposedly assigned to the original report. If true, this creates a problem of overrepresenting certain cases, as well as their associated demographics and things like area occurred, which can impact our later summaries."
   ]
  },
  {
   "cell_type": "code",
   "execution_count": null,
   "id": "3cf5cdaa",
   "metadata": {},
   "outputs": [],
   "source": []
  },
  {
   "cell_type": "markdown",
   "id": "af4d346f",
   "metadata": {},
   "source": [
    "### date occurred\n",
    "- talk about date last seen, date occurred\n",
    "- **does the number of reports change in the two decades we observe?** frequency of reports overtime"
   ]
  },
  {
   "cell_type": "code",
   "execution_count": 9,
   "id": "0c8b6f76",
   "metadata": {},
   "outputs": [
    {
     "data": {
      "text/plain": [
       "count                           355053\n",
       "mean     2009-08-25 20:11:05.299659264\n",
       "min                2000-01-01 01:00:00\n",
       "25%                2004-03-31 07:00:00\n",
       "50%                2008-09-24 07:30:00\n",
       "75%                2014-07-07 15:30:00\n",
       "max                2023-04-11 21:55:00\n",
       "Name: date_occurred, dtype: object"
      ]
     },
     "execution_count": 9,
     "metadata": {},
     "output_type": "execute_result"
    }
   ],
   "source": [
    "mp.date_occurred.describe()"
   ]
  },
  {
   "cell_type": "code",
   "execution_count": 10,
   "id": "648d88b5",
   "metadata": {},
   "outputs": [
    {
     "data": {
      "text/plain": [
       "<Axes: xlabel='date_occurred'>"
      ]
     },
     "execution_count": 10,
     "metadata": {},
     "output_type": "execute_result"
    },
    {
     "data": {
      "image/png": "[encoded data removed]",
      "text/plain": [
       "<Figure size 640x480 with 1 Axes>"
      ]
     },
     "metadata": {},
     "output_type": "display_data"
    }
   ],
   "source": [
    "mp[['rd_no', 'date_occurred']].groupby(mp.date_occurred.dt.date).count()[['rd_no']].plot()"
   ]
  },
  {
   "cell_type": "markdown",
   "id": "c9d2c155",
   "metadata": {},
   "source": [
    "### location\n",
    "- talk about last seen location, address, beat (or district) occurred\n",
    "- **do certain areas of Chicago have more missing persons reports than others?** cross beat occurred with monthly counts of new rdnos"
   ]
  },
  {
   "cell_type": "markdown",
   "id": "00693a43",
   "metadata": {},
   "source": [
    "#### what are the valid district, sector, and beat values?"
   ]
  },
  {
   "cell_type": "code",
   "execution_count": 11,
   "id": "d9ba254e",
   "metadata": {},
   "outputs": [
    {
     "name": "stdout",
     "output_type": "stream",
     "text": [
      "0 in city_dists:\tFalse\n",
      "1 in city_dists:\tTrue\n",
      "2 in city_dists:\tTrue\n",
      "3 in city_dists:\tTrue\n",
      "4 in city_dists:\tTrue\n",
      "5 in city_dists:\tTrue\n",
      "6 in city_dists:\tTrue\n",
      "7 in city_dists:\tTrue\n",
      "8 in city_dists:\tTrue\n",
      "9 in city_dists:\tTrue\n",
      "10 in city_dists:\tTrue\n",
      "11 in city_dists:\tTrue\n",
      "12 in city_dists:\tTrue\n",
      "13 in city_dists:\tFalse\n",
      "14 in city_dists:\tTrue\n",
      "15 in city_dists:\tTrue\n",
      "16 in city_dists:\tTrue\n",
      "17 in city_dists:\tTrue\n",
      "18 in city_dists:\tTrue\n",
      "19 in city_dists:\tTrue\n",
      "20 in city_dists:\tTrue\n",
      "21 in city_dists:\tFalse\n",
      "22 in city_dists:\tTrue\n",
      "23 in city_dists:\tFalse\n",
      "24 in city_dists:\tTrue\n",
      "25 in city_dists:\tTrue\n",
      "26 in city_dists:\tFalse\n",
      "27 in city_dists:\tFalse\n",
      "28 in city_dists:\tFalse\n",
      "29 in city_dists:\tFalse\n",
      "30 in city_dists:\tFalse\n",
      "31 in city_dists:\tTrue\n"
     ]
    }
   ],
   "source": [
    "dists = city_beats.DISTRICT.unique()\n",
    "sects = city_beats.SECTOR.unique()\n",
    "beats = city_beats.BEAT.unique()\n",
    "\n",
    "# note: sectors and beats both appear in range (0, 5) inclusive (shown in later step)\n",
    "for i in range(0, max(dists)+1):\n",
    "    print(f'{i} in city_dists:\\t{i in dists}')"
   ]
  },
  {
   "cell_type": "code",
   "execution_count": 12,
   "id": "e04bda22",
   "metadata": {},
   "outputs": [
    {
     "data": {
      "text/plain": [
       "array([1, 0, 5, 3, 2])"
      ]
     },
     "execution_count": 12,
     "metadata": {},
     "output_type": "execute_result"
    }
   ],
   "source": [
    "sects"
   ]
  },
  {
   "cell_type": "code",
   "execution_count": 13,
   "id": "fdd0bad0",
   "metadata": {},
   "outputs": [
    {
     "data": {
      "text/plain": [
       "array([1, 0, 5, 3, 2])"
      ]
     },
     "execution_count": 13,
     "metadata": {},
     "output_type": "execute_result"
    }
   ],
   "source": [
    "beats"
   ]
  },
  {
   "cell_type": "markdown",
   "id": "06c5f0e3",
   "metadata": {},
   "source": [
    "#### do all the beats we observe match the city's data? any invalid?"
   ]
  },
  {
   "cell_type": "code",
   "execution_count": 14,
   "id": "c8c44e38",
   "metadata": {},
   "outputs": [
    {
     "name": "stdout",
     "output_type": "stream",
     "text": [
      "improperly short beat_occurred:\t 0\n",
      "improperly short beat_assigned:\t 2\n"
     ]
    }
   ],
   "source": [
    "mp['short_beat_occurred'] = mp.beat_occurred.str.len() < 3\n",
    "mp['short_beat_assigned'] = mp.beat_assigned.str.len() < 3\n",
    "\n",
    "print('improperly short beat_occurred:\\t', mp.short_beat_occurred.sum())\n",
    "print('improperly short beat_assigned:\\t', mp.short_beat_assigned.sum())"
   ]
  },
  {
   "cell_type": "code",
   "execution_count": 15,
   "id": "ad3d57c0",
   "metadata": {},
   "outputs": [
    {
     "data": {
      "text/html": [
       "<div>\n",
       "<style scoped>\n",
       "    .dataframe tbody tr th:only-of-type {\n",
       "        vertical-align: middle;\n",
       "    }\n",
       "\n",
       "    .dataframe tbody tr th {\n",
       "        vertical-align: top;\n",
       "    }\n",
       "\n",
       "    .dataframe thead th {\n",
       "        text-align: right;\n",
       "    }\n",
       "</style>\n",
       "<table border=\"1\" class=\"dataframe\">\n",
       "  <thead>\n",
       "    <tr style=\"text-align: right;\">\n",
       "      <th></th>\n",
       "      <th>rd_no</th>\n",
       "      <th>beat_occurred</th>\n",
       "      <th>beat_assigned</th>\n",
       "      <th>race</th>\n",
       "      <th>sex</th>\n",
       "      <th>age</th>\n",
       "      <th>age_group</th>\n",
       "      <th>address</th>\n",
       "      <th>status</th>\n",
       "      <th>tta_group</th>\n",
       "      <th>ttc_group</th>\n",
       "    </tr>\n",
       "  </thead>\n",
       "  <tbody>\n",
       "    <tr>\n",
       "      <th>95583</th>\n",
       "      <td>HS318761</td>\n",
       "      <td>111</td>\n",
       "      <td>3N</td>\n",
       "      <td>None</td>\n",
       "      <td>None</td>\n",
       "      <td>NaN</td>\n",
       "      <td>None</td>\n",
       "      <td>2XX S CANAL ST, CHICAGO</td>\n",
       "      <td>CLOSED NON-CRIMINAL</td>\n",
       "      <td>None</td>\n",
       "      <td>MISSING</td>\n",
       "    </tr>\n",
       "    <tr>\n",
       "      <th>250341</th>\n",
       "      <td>HJ104231</td>\n",
       "      <td>1111</td>\n",
       "      <td>11</td>\n",
       "      <td>BLACK</td>\n",
       "      <td>F</td>\n",
       "      <td>17.0</td>\n",
       "      <td>youth (10-20)</td>\n",
       "      <td>44XX W THOMAS ST, CHICAGO</td>\n",
       "      <td>CLOSED NON-CRIMINAL</td>\n",
       "      <td>None</td>\n",
       "      <td>MISSING</td>\n",
       "    </tr>\n",
       "  </tbody>\n",
       "</table>\n",
       "</div>"
      ],
      "text/plain": [
       "           rd_no beat_occurred beat_assigned   race   sex   age  \\\n",
       "95583   HS318761           111            3N   None  None   NaN   \n",
       "250341  HJ104231          1111            11  BLACK     F  17.0   \n",
       "\n",
       "            age_group                    address               status  \\\n",
       "95583            None    2XX S CANAL ST, CHICAGO  CLOSED NON-CRIMINAL   \n",
       "250341  youth (10-20)  44XX W THOMAS ST, CHICAGO  CLOSED NON-CRIMINAL   \n",
       "\n",
       "       tta_group ttc_group  \n",
       "95583       None   MISSING  \n",
       "250341      None   MISSING  "
      ]
     },
     "execution_count": 15,
     "metadata": {},
     "output_type": "execute_result"
    }
   ],
   "source": [
    "mp.loc[mp.beat_assigned.str.len() < 3, ['rd_no', 'beat_occurred', 'beat_assigned', \n",
    "                                        'race', 'sex', 'age', 'age_group', 'address', \n",
    "                                        'status', 'tta_group', 'ttc_group']]"
   ]
  },
  {
   "cell_type": "markdown",
   "id": "0f2fcb16",
   "metadata": {},
   "source": [
    "#### review valid beats"
   ]
  },
  {
   "cell_type": "code",
   "execution_count": 16,
   "id": "141917a2",
   "metadata": {},
   "outputs": [
    {
     "data": {
      "text/html": [
       "<div>\n",
       "<style scoped>\n",
       "    .dataframe tbody tr th:only-of-type {\n",
       "        vertical-align: middle;\n",
       "    }\n",
       "\n",
       "    .dataframe tbody tr th {\n",
       "        vertical-align: top;\n",
       "    }\n",
       "\n",
       "    .dataframe thead th {\n",
       "        text-align: right;\n",
       "    }\n",
       "</style>\n",
       "<table border=\"1\" class=\"dataframe\">\n",
       "  <thead>\n",
       "    <tr style=\"text-align: right;\">\n",
       "      <th></th>\n",
       "      <th>rd_no</th>\n",
       "      <th>address</th>\n",
       "      <th>beat_occurred</th>\n",
       "      <th>beat_assigned</th>\n",
       "    </tr>\n",
       "  </thead>\n",
       "  <tbody>\n",
       "    <tr>\n",
       "      <th>0</th>\n",
       "      <td>F012033</td>\n",
       "      <td>63XX S KING DR, CHICAGO</td>\n",
       "      <td>312</td>\n",
       "      <td>0312</td>\n",
       "    </tr>\n",
       "    <tr>\n",
       "      <th>1</th>\n",
       "      <td>F021758</td>\n",
       "      <td>17XX N DRAKE AV, CHICAGO</td>\n",
       "      <td>1422</td>\n",
       "      <td>2502</td>\n",
       "    </tr>\n",
       "    <tr>\n",
       "      <th>2</th>\n",
       "      <td>F094577</td>\n",
       "      <td>26XX N CALIFORNIA AV, CHICAGO</td>\n",
       "      <td>1411</td>\n",
       "      <td>1411</td>\n",
       "    </tr>\n",
       "    <tr>\n",
       "      <th>3</th>\n",
       "      <td>F121480</td>\n",
       "      <td>7XX N ELIZABETH ST, CHICAGO</td>\n",
       "      <td>1324</td>\n",
       "      <td>1341</td>\n",
       "    </tr>\n",
       "    <tr>\n",
       "      <th>4</th>\n",
       "      <td>F118317</td>\n",
       "      <td>48XX S INDIANA AV, CHICAGO</td>\n",
       "      <td>224</td>\n",
       "      <td>0233</td>\n",
       "    </tr>\n",
       "    <tr>\n",
       "      <th>...</th>\n",
       "      <td>...</td>\n",
       "      <td>...</td>\n",
       "      <td>...</td>\n",
       "      <td>...</td>\n",
       "    </tr>\n",
       "    <tr>\n",
       "      <th>355048</th>\n",
       "      <td>JG221574</td>\n",
       "      <td>15XX S DRAKE AVE, CHICAGO</td>\n",
       "      <td>1021</td>\n",
       "      <td>9181</td>\n",
       "    </tr>\n",
       "    <tr>\n",
       "      <th>355049</th>\n",
       "      <td>JG193453</td>\n",
       "      <td>106XX S BENSLEY AVE, CHICAGO</td>\n",
       "      <td>434</td>\n",
       "      <td>0402</td>\n",
       "    </tr>\n",
       "    <tr>\n",
       "      <th>355050</th>\n",
       "      <td>JG170792</td>\n",
       "      <td>109XX S VERNON AVE, CHICAGO</td>\n",
       "      <td>513</td>\n",
       "      <td>9154</td>\n",
       "    </tr>\n",
       "    <tr>\n",
       "      <th>355051</th>\n",
       "      <td>JF199168</td>\n",
       "      <td>59XX S CICERO AVE</td>\n",
       "      <td>None</td>\n",
       "      <td>0802</td>\n",
       "    </tr>\n",
       "    <tr>\n",
       "      <th>355052</th>\n",
       "      <td>JD403816</td>\n",
       "      <td>44XX S ALBANY AVE</td>\n",
       "      <td>None</td>\n",
       "      <td>None</td>\n",
       "    </tr>\n",
       "  </tbody>\n",
       "</table>\n",
       "<p>355053 rows × 4 columns</p>\n",
       "</div>"
      ],
      "text/plain": [
       "           rd_no                        address beat_occurred beat_assigned\n",
       "0        F012033        63XX S KING DR, CHICAGO           312          0312\n",
       "1        F021758       17XX N DRAKE AV, CHICAGO          1422          2502\n",
       "2        F094577  26XX N CALIFORNIA AV, CHICAGO          1411          1411\n",
       "3        F121480    7XX N ELIZABETH ST, CHICAGO          1324          1341\n",
       "4        F118317     48XX S INDIANA AV, CHICAGO           224          0233\n",
       "...          ...                            ...           ...           ...\n",
       "355048  JG221574      15XX S DRAKE AVE, CHICAGO          1021          9181\n",
       "355049  JG193453   106XX S BENSLEY AVE, CHICAGO           434          0402\n",
       "355050  JG170792    109XX S VERNON AVE, CHICAGO           513          9154\n",
       "355051  JF199168              59XX S CICERO AVE          None          0802\n",
       "355052  JD403816              44XX S ALBANY AVE          None          None\n",
       "\n",
       "[355053 rows x 4 columns]"
      ]
     },
     "execution_count": 16,
     "metadata": {},
     "output_type": "execute_result"
    }
   ],
   "source": [
    "beats = mp[['rd_no', 'address', 'beat_occurred', 'beat_assigned']].copy()\n",
    "beats.loc[beats.beat_assigned.str.len() == 3, 'beat_assigned'] = \"0\" + beats.beat_assigned\n",
    "beats.loc[beats.beat_assigned.str.len() < 3, 'beat_assigned'] = None\n",
    "beats"
   ]
  },
  {
   "cell_type": "code",
   "execution_count": 17,
   "id": "2b6e40d3",
   "metadata": {},
   "outputs": [
    {
     "data": {
      "text/plain": [
       "76466"
      ]
     },
     "execution_count": 17,
     "metadata": {},
     "output_type": "execute_result"
    }
   ],
   "source": [
    "# how often is the beat_assigned the same as the occurence beat?\n",
    "beats.loc[beats.beat_occurred == beats.beat_assigned].shape[0]"
   ]
  },
  {
   "cell_type": "code",
   "execution_count": 45,
   "id": "9b990ce0",
   "metadata": {},
   "outputs": [
    {
     "data": {
      "text/plain": [
       "0.78"
      ]
     },
     "execution_count": 45,
     "metadata": {},
     "output_type": "execute_result"
    }
   ],
   "source": [
    "# how often do beat_assigned and beat_occurred not match?\n",
    "round(beats.loc[beats.beat_occurred != beats.beat_assigned].shape[0] / beats.shape[0], 2)"
   ]
  },
  {
   "cell_type": "code",
   "execution_count": 18,
   "id": "ae7cc618",
   "metadata": {},
   "outputs": [],
   "source": [
    "beats['temp_beat_occurred'] = beats.beat_occurred\n",
    "beats['city_beat_occurred'] = beats.temp_beat_occurred.str[-1]\n",
    "beats['temp_beat_occurred'] = beats.temp_beat_occurred.str[:-1]\n",
    "beats['city_sector_occurred'] = beats.temp_beat_occurred.str[-1]\n",
    "beats['temp_beat_occurred'] = beats.temp_beat_occurred.str[:-1]\n",
    "beats['city_district_occurred'] = beats.temp_beat_occurred\n",
    "beats.drop(columns='temp_beat_occurred', inplace=True)\n",
    "\n",
    "beats['temp_beat_assigned'] = beats.beat_assigned\n",
    "beats['city_district_assigned'] = beats.temp_beat_assigned.str[:2]\n",
    "beats['city_sector_assigned'] = beats.temp_beat_assigned.str[2]\n",
    "beats['city_beat_assigned'] = beats.temp_beat_assigned.str[3:]\n",
    "beats.drop(columns='temp_beat_assigned', inplace=True)"
   ]
  },
  {
   "cell_type": "code",
   "execution_count": 19,
   "id": "edcf7202",
   "metadata": {},
   "outputs": [
    {
     "data": {
      "text/html": [
       "<div>\n",
       "<style scoped>\n",
       "    .dataframe tbody tr th:only-of-type {\n",
       "        vertical-align: middle;\n",
       "    }\n",
       "\n",
       "    .dataframe tbody tr th {\n",
       "        vertical-align: top;\n",
       "    }\n",
       "\n",
       "    .dataframe thead th {\n",
       "        text-align: right;\n",
       "    }\n",
       "</style>\n",
       "<table border=\"1\" class=\"dataframe\">\n",
       "  <thead>\n",
       "    <tr style=\"text-align: right;\">\n",
       "      <th></th>\n",
       "      <th>rd_no</th>\n",
       "      <th>address</th>\n",
       "      <th>beat_occurred</th>\n",
       "      <th>beat_assigned</th>\n",
       "      <th>city_district_occurred</th>\n",
       "      <th>city_sector_occurred</th>\n",
       "      <th>city_beat_occurred</th>\n",
       "      <th>city_district_assigned</th>\n",
       "      <th>city_sector_assigned</th>\n",
       "      <th>city_beat_assigned</th>\n",
       "    </tr>\n",
       "  </thead>\n",
       "  <tbody>\n",
       "    <tr>\n",
       "      <th>0</th>\n",
       "      <td>F012033</td>\n",
       "      <td>63XX S KING DR, CHICAGO</td>\n",
       "      <td>312</td>\n",
       "      <td>0312</td>\n",
       "      <td>3</td>\n",
       "      <td>1</td>\n",
       "      <td>2</td>\n",
       "      <td>03</td>\n",
       "      <td>1</td>\n",
       "      <td>2</td>\n",
       "    </tr>\n",
       "    <tr>\n",
       "      <th>1</th>\n",
       "      <td>F021758</td>\n",
       "      <td>17XX N DRAKE AV, CHICAGO</td>\n",
       "      <td>1422</td>\n",
       "      <td>2502</td>\n",
       "      <td>14</td>\n",
       "      <td>2</td>\n",
       "      <td>2</td>\n",
       "      <td>25</td>\n",
       "      <td>0</td>\n",
       "      <td>2</td>\n",
       "    </tr>\n",
       "    <tr>\n",
       "      <th>2</th>\n",
       "      <td>F094577</td>\n",
       "      <td>26XX N CALIFORNIA AV, CHICAGO</td>\n",
       "      <td>1411</td>\n",
       "      <td>1411</td>\n",
       "      <td>14</td>\n",
       "      <td>1</td>\n",
       "      <td>1</td>\n",
       "      <td>14</td>\n",
       "      <td>1</td>\n",
       "      <td>1</td>\n",
       "    </tr>\n",
       "    <tr>\n",
       "      <th>3</th>\n",
       "      <td>F121480</td>\n",
       "      <td>7XX N ELIZABETH ST, CHICAGO</td>\n",
       "      <td>1324</td>\n",
       "      <td>1341</td>\n",
       "      <td>13</td>\n",
       "      <td>2</td>\n",
       "      <td>4</td>\n",
       "      <td>13</td>\n",
       "      <td>4</td>\n",
       "      <td>1</td>\n",
       "    </tr>\n",
       "    <tr>\n",
       "      <th>4</th>\n",
       "      <td>F118317</td>\n",
       "      <td>48XX S INDIANA AV, CHICAGO</td>\n",
       "      <td>224</td>\n",
       "      <td>0233</td>\n",
       "      <td>2</td>\n",
       "      <td>2</td>\n",
       "      <td>4</td>\n",
       "      <td>02</td>\n",
       "      <td>3</td>\n",
       "      <td>3</td>\n",
       "    </tr>\n",
       "    <tr>\n",
       "      <th>...</th>\n",
       "      <td>...</td>\n",
       "      <td>...</td>\n",
       "      <td>...</td>\n",
       "      <td>...</td>\n",
       "      <td>...</td>\n",
       "      <td>...</td>\n",
       "      <td>...</td>\n",
       "      <td>...</td>\n",
       "      <td>...</td>\n",
       "      <td>...</td>\n",
       "    </tr>\n",
       "    <tr>\n",
       "      <th>355048</th>\n",
       "      <td>JG221574</td>\n",
       "      <td>15XX S DRAKE AVE, CHICAGO</td>\n",
       "      <td>1021</td>\n",
       "      <td>9181</td>\n",
       "      <td>10</td>\n",
       "      <td>2</td>\n",
       "      <td>1</td>\n",
       "      <td>91</td>\n",
       "      <td>8</td>\n",
       "      <td>1</td>\n",
       "    </tr>\n",
       "    <tr>\n",
       "      <th>355049</th>\n",
       "      <td>JG193453</td>\n",
       "      <td>106XX S BENSLEY AVE, CHICAGO</td>\n",
       "      <td>434</td>\n",
       "      <td>0402</td>\n",
       "      <td>4</td>\n",
       "      <td>3</td>\n",
       "      <td>4</td>\n",
       "      <td>04</td>\n",
       "      <td>0</td>\n",
       "      <td>2</td>\n",
       "    </tr>\n",
       "    <tr>\n",
       "      <th>355050</th>\n",
       "      <td>JG170792</td>\n",
       "      <td>109XX S VERNON AVE, CHICAGO</td>\n",
       "      <td>513</td>\n",
       "      <td>9154</td>\n",
       "      <td>5</td>\n",
       "      <td>1</td>\n",
       "      <td>3</td>\n",
       "      <td>91</td>\n",
       "      <td>5</td>\n",
       "      <td>4</td>\n",
       "    </tr>\n",
       "    <tr>\n",
       "      <th>355051</th>\n",
       "      <td>JF199168</td>\n",
       "      <td>59XX S CICERO AVE</td>\n",
       "      <td>None</td>\n",
       "      <td>0802</td>\n",
       "      <td>None</td>\n",
       "      <td>None</td>\n",
       "      <td>None</td>\n",
       "      <td>08</td>\n",
       "      <td>0</td>\n",
       "      <td>2</td>\n",
       "    </tr>\n",
       "    <tr>\n",
       "      <th>355052</th>\n",
       "      <td>JD403816</td>\n",
       "      <td>44XX S ALBANY AVE</td>\n",
       "      <td>None</td>\n",
       "      <td>None</td>\n",
       "      <td>None</td>\n",
       "      <td>None</td>\n",
       "      <td>None</td>\n",
       "      <td>None</td>\n",
       "      <td>None</td>\n",
       "      <td>None</td>\n",
       "    </tr>\n",
       "  </tbody>\n",
       "</table>\n",
       "<p>355053 rows × 10 columns</p>\n",
       "</div>"
      ],
      "text/plain": [
       "           rd_no                        address beat_occurred beat_assigned  \\\n",
       "0        F012033        63XX S KING DR, CHICAGO           312          0312   \n",
       "1        F021758       17XX N DRAKE AV, CHICAGO          1422          2502   \n",
       "2        F094577  26XX N CALIFORNIA AV, CHICAGO          1411          1411   \n",
       "3        F121480    7XX N ELIZABETH ST, CHICAGO          1324          1341   \n",
       "4        F118317     48XX S INDIANA AV, CHICAGO           224          0233   \n",
       "...          ...                            ...           ...           ...   \n",
       "355048  JG221574      15XX S DRAKE AVE, CHICAGO          1021          9181   \n",
       "355049  JG193453   106XX S BENSLEY AVE, CHICAGO           434          0402   \n",
       "355050  JG170792    109XX S VERNON AVE, CHICAGO           513          9154   \n",
       "355051  JF199168              59XX S CICERO AVE          None          0802   \n",
       "355052  JD403816              44XX S ALBANY AVE          None          None   \n",
       "\n",
       "       city_district_occurred city_sector_occurred city_beat_occurred  \\\n",
       "0                           3                    1                  2   \n",
       "1                          14                    2                  2   \n",
       "2                          14                    1                  1   \n",
       "3                          13                    2                  4   \n",
       "4                           2                    2                  4   \n",
       "...                       ...                  ...                ...   \n",
       "355048                     10                    2                  1   \n",
       "355049                      4                    3                  4   \n",
       "355050                      5                    1                  3   \n",
       "355051                   None                 None               None   \n",
       "355052                   None                 None               None   \n",
       "\n",
       "       city_district_assigned city_sector_assigned city_beat_assigned  \n",
       "0                          03                    1                  2  \n",
       "1                          25                    0                  2  \n",
       "2                          14                    1                  1  \n",
       "3                          13                    4                  1  \n",
       "4                          02                    3                  3  \n",
       "...                       ...                  ...                ...  \n",
       "355048                     91                    8                  1  \n",
       "355049                     04                    0                  2  \n",
       "355050                     91                    5                  4  \n",
       "355051                     08                    0                  2  \n",
       "355052                   None                 None               None  \n",
       "\n",
       "[355053 rows x 10 columns]"
      ]
     },
     "execution_count": 19,
     "metadata": {},
     "output_type": "execute_result"
    }
   ],
   "source": [
    "beats[['rd_no', 'address', \n",
    "       'beat_occurred', 'beat_assigned', \n",
    "       'city_district_occurred', 'city_sector_occurred', 'city_beat_occurred', \n",
    "       'city_district_assigned', 'city_sector_assigned', 'city_beat_assigned']]"
   ]
  },
  {
   "cell_type": "code",
   "execution_count": 20,
   "id": "3d3030df",
   "metadata": {},
   "outputs": [
    {
     "data": {
      "text/plain": [
       "city_district_assigned\n",
       "24    27914\n",
       "20    20686\n",
       "07    19556\n",
       "02    19412\n",
       "08    19213\n",
       "      ...  \n",
       "96        1\n",
       "32        1\n",
       "97        1\n",
       "70        1\n",
       "5Z        1\n",
       "Name: count, Length: 71, dtype: int64"
      ]
     },
     "execution_count": 20,
     "metadata": {},
     "output_type": "execute_result"
    }
   ],
   "source": [
    "beats.city_district_assigned.value_counts()"
   ]
  },
  {
   "cell_type": "markdown",
   "id": "78c541a3",
   "metadata": {},
   "source": [
    "### what districts are observed outside of the city's guidelines?\n",
    "Note: we've been advised that certain district numbers are used for airport zones \\\n",
    "Note 2: as with any region in a period over 20 years, these maps can change, so we should look to see if unexpected values are from a certain point in time."
   ]
  },
  {
   "cell_type": "code",
   "execution_count": 21,
   "id": "dd758fe4",
   "metadata": {},
   "outputs": [
    {
     "name": "stdout",
     "output_type": "stream",
     "text": [
      "5C\n",
      "5C\n",
      "5C\n",
      "5Z\n"
     ]
    }
   ],
   "source": [
    "for dist in beats.city_district_assigned:\n",
    "    if pd.notnull(dist):\n",
    "        if not all([char.isdigit() for char in dist]): print(dist)"
   ]
  },
  {
   "cell_type": "code",
   "execution_count": 60,
   "id": "0f5d7d5f",
   "metadata": {},
   "outputs": [
    {
     "data": {
      "text/html": [
       "<div>\n",
       "<style scoped>\n",
       "    .dataframe tbody tr th:only-of-type {\n",
       "        vertical-align: middle;\n",
       "    }\n",
       "\n",
       "    .dataframe tbody tr th {\n",
       "        vertical-align: top;\n",
       "    }\n",
       "\n",
       "    .dataframe thead th {\n",
       "        text-align: right;\n",
       "    }\n",
       "</style>\n",
       "<table border=\"1\" class=\"dataframe\">\n",
       "  <thead>\n",
       "    <tr style=\"text-align: right;\">\n",
       "      <th></th>\n",
       "      <th>rd_no</th>\n",
       "      <th>address</th>\n",
       "      <th>beat_occurred</th>\n",
       "      <th>beat_assigned</th>\n",
       "      <th>city_beat_occurred</th>\n",
       "      <th>city_sector_occurred</th>\n",
       "      <th>city_district_occurred</th>\n",
       "      <th>city_district_assigned</th>\n",
       "      <th>city_sector_assigned</th>\n",
       "      <th>city_beat_assigned</th>\n",
       "    </tr>\n",
       "  </thead>\n",
       "  <tbody>\n",
       "    <tr>\n",
       "      <th>4332</th>\n",
       "      <td>HM233065</td>\n",
       "      <td>97XX S OGLESBY AVE, CHICAGO</td>\n",
       "      <td>431</td>\n",
       "      <td>0404C</td>\n",
       "      <td>1</td>\n",
       "      <td>3</td>\n",
       "      <td>4</td>\n",
       "      <td>04</td>\n",
       "      <td>0</td>\n",
       "      <td>4C</td>\n",
       "    </tr>\n",
       "    <tr>\n",
       "      <th>5838</th>\n",
       "      <td>JE194869</td>\n",
       "      <td>130XX S DREXEL AVE, CHICAGO</td>\n",
       "      <td>533</td>\n",
       "      <td>4578C</td>\n",
       "      <td>3</td>\n",
       "      <td>3</td>\n",
       "      <td>5</td>\n",
       "      <td>45</td>\n",
       "      <td>7</td>\n",
       "      <td>8C</td>\n",
       "    </tr>\n",
       "    <tr>\n",
       "      <th>9075</th>\n",
       "      <td>HL179003</td>\n",
       "      <td>47XX N DRAKE AVE, CHICAGO</td>\n",
       "      <td>1723</td>\n",
       "      <td>1763C</td>\n",
       "      <td>3</td>\n",
       "      <td>2</td>\n",
       "      <td>17</td>\n",
       "      <td>17</td>\n",
       "      <td>6</td>\n",
       "      <td>3C</td>\n",
       "    </tr>\n",
       "    <tr>\n",
       "      <th>10615</th>\n",
       "      <td>HJ404858</td>\n",
       "      <td>30XX W 21ST PL, CHICAGO</td>\n",
       "      <td>1022</td>\n",
       "      <td>1004C</td>\n",
       "      <td>2</td>\n",
       "      <td>2</td>\n",
       "      <td>10</td>\n",
       "      <td>10</td>\n",
       "      <td>0</td>\n",
       "      <td>4C</td>\n",
       "    </tr>\n",
       "    <tr>\n",
       "      <th>15227</th>\n",
       "      <td>HM607166</td>\n",
       "      <td>6XX W DIVISION ST, CHICAGO</td>\n",
       "      <td>1822</td>\n",
       "      <td>4577C</td>\n",
       "      <td>2</td>\n",
       "      <td>2</td>\n",
       "      <td>18</td>\n",
       "      <td>45</td>\n",
       "      <td>7</td>\n",
       "      <td>7C</td>\n",
       "    </tr>\n",
       "  </tbody>\n",
       "</table>\n",
       "</div>"
      ],
      "text/plain": [
       "          rd_no                      address beat_occurred beat_assigned  \\\n",
       "4332   HM233065  97XX S OGLESBY AVE, CHICAGO           431         0404C   \n",
       "5838   JE194869  130XX S DREXEL AVE, CHICAGO           533         4578C   \n",
       "9075   HL179003    47XX N DRAKE AVE, CHICAGO          1723         1763C   \n",
       "10615  HJ404858      30XX W 21ST PL, CHICAGO          1022         1004C   \n",
       "15227  HM607166   6XX W DIVISION ST, CHICAGO          1822         4577C   \n",
       "\n",
       "      city_beat_occurred city_sector_occurred city_district_occurred  \\\n",
       "4332                   1                    3                      4   \n",
       "5838                   3                    3                      5   \n",
       "9075                   3                    2                     17   \n",
       "10615                  2                    2                     10   \n",
       "15227                  2                    2                     18   \n",
       "\n",
       "      city_district_assigned city_sector_assigned city_beat_assigned  \n",
       "4332                      04                    0                 4C  \n",
       "5838                      45                    7                 8C  \n",
       "9075                      17                    6                 3C  \n",
       "10615                     10                    0                 4C  \n",
       "15227                     45                    7                 7C  "
      ]
     },
     "execution_count": 60,
     "metadata": {},
     "output_type": "execute_result"
    }
   ],
   "source": [
    "beats.loc[(beats.beat_assigned.notnull()) & \n",
    "          (beats.beat_assigned.str.contains('C'))\n",
    "         ].head()"
   ]
  },
  {
   "cell_type": "code",
   "execution_count": 52,
   "id": "ac518839",
   "metadata": {},
   "outputs": [
    {
     "data": {
      "text/plain": [
       "{13: 4762,\n",
       " 72: 14320,\n",
       " 23: 10058,\n",
       " 21: 4391,\n",
       " 73: 326,\n",
       " 29: 140,\n",
       " 75: 227,\n",
       " 45: 652,\n",
       " 74: 92,\n",
       " 52: 4129,\n",
       " 55: 6,\n",
       " 95: 1,\n",
       " 83: 33,\n",
       " 54: 19,\n",
       " 53: 593,\n",
       " 91: 538,\n",
       " 57: 16,\n",
       " 71: 57,\n",
       " 51: 20,\n",
       " 77: 13,\n",
       " 44: 7,\n",
       " 56: 3,\n",
       " 41: 9,\n",
       " 47: 11,\n",
       " 93: 2,\n",
       " 28: 3,\n",
       " 82: 15,\n",
       " 81: 17,\n",
       " 26: 4,\n",
       " 50: 1,\n",
       " 76: 1,\n",
       " 67: 2,\n",
       " 62: 2,\n",
       " 92: 5,\n",
       " 80: 2,\n",
       " 42: 3,\n",
       " 0: 1,\n",
       " 43: 5,\n",
       " 78: 1,\n",
       " 65: 2,\n",
       " 79: 1,\n",
       " 96: 1,\n",
       " 32: 1,\n",
       " 97: 1,\n",
       " 58: 2,\n",
       " 70: 1}"
      ]
     },
     "execution_count": 52,
     "metadata": {},
     "output_type": "execute_result"
    }
   ],
   "source": [
    "unk_dist = {}\n",
    "for dist in beats.city_district_assigned.values:\n",
    "    if pd.isna(dist): continue\n",
    "    if (dist.isdigit()):\n",
    "        clean = int(dist)\n",
    "        if clean not in city_beats.DISTRICT.unique():\n",
    "            if clean not in unk_dist: unk_dist[clean] = 1\n",
    "            else: unk_dist[clean] += 1\n",
    "unk_dist"
   ]
  },
  {
   "cell_type": "markdown",
   "id": "e0d2c9de",
   "metadata": {},
   "source": [
    "### same question but for sectors?"
   ]
  },
  {
   "cell_type": "code",
   "execution_count": 54,
   "id": "8ff9875e",
   "metadata": {},
   "outputs": [
    {
     "data": {
      "text/plain": [
       "{4: 18977, 7: 6146, 8: 1350, 6: 436, 9: 1255}"
      ]
     },
     "execution_count": 54,
     "metadata": {},
     "output_type": "execute_result"
    }
   ],
   "source": [
    "unk_sect = {}\n",
    "for dist in beats.city_sector_assigned.values:\n",
    "    if pd.isna(dist): continue\n",
    "    if (dist.isdigit()):\n",
    "        clean = int(dist)\n",
    "        if clean not in city_beats.SECTOR.unique():\n",
    "            if clean not in unk_sect: unk_sect[clean] = 1\n",
    "            else: unk_sect[clean] += 1\n",
    "unk_sect"
   ]
  },
  {
   "cell_type": "markdown",
   "id": "46136fcf",
   "metadata": {},
   "source": [
    "### same question but for beats?\n",
    "Note: a \"BEAT_NUM\" is f\"{DISTRICT}{SECTOR}{BEAT}\""
   ]
  },
  {
   "cell_type": "code",
   "execution_count": 56,
   "id": "9239e366",
   "metadata": {},
   "outputs": [
    {
     "data": {
      "text/plain": [
       "{4: 42716, 6: 8214, 7: 6198, 9: 2274, 8: 2571, 11: 1, 74: 1, 12: 1}"
      ]
     },
     "execution_count": 56,
     "metadata": {},
     "output_type": "execute_result"
    }
   ],
   "source": [
    "unk_beat = {}\n",
    "for dist in beats.city_beat_assigned.values:\n",
    "    if pd.isna(dist): continue\n",
    "    if (dist.isdigit()):\n",
    "        clean = int(dist)\n",
    "        if clean not in city_beats.BEAT.unique():\n",
    "            if clean not in unk_beat: unk_beat[clean] = 1\n",
    "            else: unk_beat[clean] += 1\n",
    "unk_beat"
   ]
  },
  {
   "cell_type": "markdown",
   "id": "0a733e47",
   "metadata": {},
   "source": [
    "### chars in beat_nums: an artifact of the supervisor?\n",
    "Note: we've been advised the alphabetical characters we sometimes in the beat_nums refers to the initial of supervisor of that region at that point in time, since some of the canonical areas are divided that way"
   ]
  },
  {
   "cell_type": "code",
   "execution_count": 23,
   "id": "ab958099",
   "metadata": {},
   "outputs": [
    {
     "data": {
      "text/plain": [
       "801"
      ]
     },
     "execution_count": 23,
     "metadata": {},
     "output_type": "execute_result"
    }
   ],
   "source": [
    "# how many unique beat_assigned values contain [A-Z]?\n",
    "has_char = []\n",
    "for assn in beats.beat_assigned.unique():\n",
    "    if pd.isna(assn): continue\n",
    "    if not all([char.isdigit() for char in assn]): has_char.append(assn)\n",
    "len(has_char)"
   ]
  },
  {
   "cell_type": "code",
   "execution_count": 66,
   "id": "60bbad35",
   "metadata": {},
   "outputs": [
    {
     "data": {
      "text/plain": [
       "{'A': 102,\n",
       " 'S': 90,\n",
       " 'R': 429,\n",
       " 'H': 30,\n",
       " 'C': 37,\n",
       " 'Z': 2,\n",
       " 'D': 27,\n",
       " 'B': 39,\n",
       " 'W': 2,\n",
       " 'F': 7,\n",
       " 'K': 1,\n",
       " 'HR': 6,\n",
       " 'E': 12,\n",
       " 'I': 2,\n",
       " 'N': 1,\n",
       " 'X': 1,\n",
       " 'L': 2,\n",
       " 'G': 3,\n",
       " 'J': 1,\n",
       " 'M': 2,\n",
       " 'V': 1}"
      ]
     },
     "execution_count": 66,
     "metadata": {},
     "output_type": "execute_result"
    }
   ],
   "source": [
    "chars = {}\n",
    "for val in has_char:\n",
    "    clean = ''.join([v for v in val[-2:] if not v.isdigit()])\n",
    "    if not clean: continue\n",
    "    if clean not in chars: chars[clean] = 1\n",
    "    else: chars[clean] += 1\n",
    "chars"
   ]
  },
  {
   "cell_type": "code",
   "execution_count": 24,
   "id": "ab8f2fcd",
   "metadata": {},
   "outputs": [
    {
     "data": {
      "text/plain": [
       "1725"
      ]
     },
     "execution_count": 24,
     "metadata": {},
     "output_type": "execute_result"
    }
   ],
   "source": [
    "only_digits = [int(beat) \n",
    "               for beat in beats.loc[~beats.beat_assigned.isin(has_char), 'beat_assigned'].unique() \n",
    "               if beat]\n",
    "len(only_digits)"
   ]
  },
  {
   "cell_type": "code",
   "execution_count": 68,
   "id": "751f8283",
   "metadata": {},
   "outputs": [
    {
     "data": {
      "text/plain": [
       "327389"
      ]
     },
     "execution_count": 68,
     "metadata": {},
     "output_type": "execute_result"
    }
   ],
   "source": [
    "beats.loc[~beats.beat_assigned.isin(has_char), 'beat_assigned'].value_counts().sum()"
   ]
  },
  {
   "cell_type": "markdown",
   "id": "a58140c1",
   "metadata": {},
   "source": [
    "## multiple statuses observed"
   ]
  },
  {
   "cell_type": "code",
   "execution_count": 27,
   "id": "fd4768c2",
   "metadata": {},
   "outputs": [
    {
     "data": {
      "text/plain": [
       "status\n",
       "CLOSED NON-CRIMINAL|OPEN ASSIGNED              1419\n",
       "CLOSED NON-CRIMINAL|SUSPENDED                    62\n",
       "OPEN ASSIGNED|SUSPENDED                          39\n",
       "CLOSED NON-CRIMINAL|OPEN ASSIGNED|SUSPENDED      14\n",
       "EX CLEARED CLOSED|OPEN ASSIGNED                   2\n",
       "CLEARED CLOSED|OPEN ASSIGNED                      2\n",
       "CLOSED NON-CRIMINAL|OPEN UNASSIGNED               1\n",
       "EX CLEARED CLOSED|SUSPENDED                       1\n",
       "Name: count, dtype: int64"
      ]
     },
     "execution_count": 27,
     "metadata": {},
     "output_type": "execute_result"
    }
   ],
   "source": [
    "extras.loc[extras.vc_status.fillna(False), 'status'].fillna(\"MISSING\").value_counts()"
   ]
  },
  {
   "cell_type": "code",
   "execution_count": 28,
   "id": "9658cb2c",
   "metadata": {},
   "outputs": [
    {
     "data": {
      "text/html": [
       "<div>\n",
       "<style scoped>\n",
       "    .dataframe tbody tr th:only-of-type {\n",
       "        vertical-align: middle;\n",
       "    }\n",
       "\n",
       "    .dataframe tbody tr th {\n",
       "        vertical-align: top;\n",
       "    }\n",
       "\n",
       "    .dataframe thead th {\n",
       "        text-align: right;\n",
       "    }\n",
       "</style>\n",
       "<table border=\"1\" class=\"dataframe\">\n",
       "  <thead>\n",
       "    <tr style=\"text-align: right;\">\n",
       "      <th></th>\n",
       "      <th>rd_no</th>\n",
       "      <th>date_occurred</th>\n",
       "      <th>race</th>\n",
       "      <th>sex</th>\n",
       "      <th>age</th>\n",
       "      <th>age_group</th>\n",
       "      <th>year_of_birth</th>\n",
       "      <th>date_officer_arrived</th>\n",
       "      <th>closed_date</th>\n",
       "      <th>status</th>\n",
       "    </tr>\n",
       "  </thead>\n",
       "  <tbody>\n",
       "    <tr>\n",
       "      <th>5840</th>\n",
       "      <td>JD368193</td>\n",
       "      <td>2020-09-03 10:00:00</td>\n",
       "      <td>BLACK</td>\n",
       "      <td>F</td>\n",
       "      <td>1.0</td>\n",
       "      <td>tender age (0-9)</td>\n",
       "      <td>2018</td>\n",
       "      <td>2020-09-15 15:49:00</td>\n",
       "      <td>NaT</td>\n",
       "      <td>CLOSED NON-CRIMINAL</td>\n",
       "    </tr>\n",
       "  </tbody>\n",
       "</table>\n",
       "</div>"
      ],
      "text/plain": [
       "         rd_no       date_occurred   race sex  age         age_group  \\\n",
       "5840  JD368193 2020-09-03 10:00:00  BLACK   F  1.0  tender age (0-9)   \n",
       "\n",
       "     year_of_birth date_officer_arrived closed_date               status  \n",
       "5840          2018  2020-09-15 15:49:00         NaT  CLOSED NON-CRIMINAL  "
      ]
     },
     "execution_count": 28,
     "metadata": {},
     "output_type": "execute_result"
    }
   ],
   "source": [
    "temp = base_demo + ['date_officer_arrived', 'closed_date', 'status']\n",
    "mp.loc[mp.rd_no == 'JD368193', temp]"
   ]
  },
  {
   "cell_type": "code",
   "execution_count": 29,
   "id": "8ccc1bab",
   "metadata": {},
   "outputs": [],
   "source": [
    "first = pd.read_parquet(\"../../join/output/versions/first.parquet\")\n",
    "second = pd.read_parquet(\"../../join/output/versions/second.parquet\")\n",
    "third = pd.read_parquet(\"../../join/output/versions/third.parquet\")\n",
    "fourth = pd.read_parquet(\"../../join/output/versions/fourth.parquet\")\n",
    "sixth = pd.read_parquet(\"../../join/output/versions/sixth.parquet\")"
   ]
  },
  {
   "cell_type": "code",
   "execution_count": 30,
   "id": "988558f2",
   "metadata": {},
   "outputs": [
    {
     "data": {
      "text/html": [
       "<div>\n",
       "<style scoped>\n",
       "    .dataframe tbody tr th:only-of-type {\n",
       "        vertical-align: middle;\n",
       "    }\n",
       "\n",
       "    .dataframe tbody tr th {\n",
       "        vertical-align: top;\n",
       "    }\n",
       "\n",
       "    .dataframe thead th {\n",
       "        text-align: right;\n",
       "    }\n",
       "</style>\n",
       "<table border=\"1\" class=\"dataframe\">\n",
       "  <thead>\n",
       "    <tr style=\"text-align: right;\">\n",
       "      <th></th>\n",
       "      <th>rd_no</th>\n",
       "      <th>date_occurred</th>\n",
       "      <th>date_officer_arrived</th>\n",
       "      <th>closed_date</th>\n",
       "      <th>status</th>\n",
       "    </tr>\n",
       "    <tr>\n",
       "      <th>index</th>\n",
       "      <th></th>\n",
       "      <th></th>\n",
       "      <th></th>\n",
       "      <th></th>\n",
       "      <th></th>\n",
       "    </tr>\n",
       "  </thead>\n",
       "  <tbody>\n",
       "    <tr>\n",
       "      <th>5945</th>\n",
       "      <td>JD368193</td>\n",
       "      <td>2020-09-03 10:00:00</td>\n",
       "      <td>2020-09-15 15:49:00</td>\n",
       "      <td>NaT</td>\n",
       "      <td>SUSPENDED</td>\n",
       "    </tr>\n",
       "  </tbody>\n",
       "</table>\n",
       "</div>"
      ],
      "text/plain": [
       "          rd_no       date_occurred date_officer_arrived closed_date  \\\n",
       "index                                                                  \n",
       "5945   JD368193 2020-09-03 10:00:00  2020-09-15 15:49:00         NaT   \n",
       "\n",
       "          status  \n",
       "index             \n",
       "5945   SUSPENDED  "
      ]
     },
     "execution_count": 30,
     "metadata": {},
     "output_type": "execute_result"
    }
   ],
   "source": [
    "first.loc[first.rd_no == 'JD368193', \n",
    "          ['rd_no', 'date_occurred', \n",
    "           'date_officer_arrived', 'closed_date', 'status']]"
   ]
  },
  {
   "cell_type": "code",
   "execution_count": 31,
   "id": "7fdafc11",
   "metadata": {},
   "outputs": [
    {
     "data": {
      "text/html": [
       "<div>\n",
       "<style scoped>\n",
       "    .dataframe tbody tr th:only-of-type {\n",
       "        vertical-align: middle;\n",
       "    }\n",
       "\n",
       "    .dataframe tbody tr th {\n",
       "        vertical-align: top;\n",
       "    }\n",
       "\n",
       "    .dataframe thead th {\n",
       "        text-align: right;\n",
       "    }\n",
       "</style>\n",
       "<table border=\"1\" class=\"dataframe\">\n",
       "  <thead>\n",
       "    <tr style=\"text-align: right;\">\n",
       "      <th></th>\n",
       "      <th>rd_no</th>\n",
       "      <th>date_occurred</th>\n",
       "      <th>date_officer_arrived</th>\n",
       "      <th>status_date</th>\n",
       "      <th>status</th>\n",
       "    </tr>\n",
       "  </thead>\n",
       "  <tbody>\n",
       "    <tr>\n",
       "      <th>333489</th>\n",
       "      <td>JD368193</td>\n",
       "      <td>2020-09-03 10:00:00</td>\n",
       "      <td>2020-09-15 15:49:00</td>\n",
       "      <td>2020-11-23 15:20:06</td>\n",
       "      <td>SUSPENDED</td>\n",
       "    </tr>\n",
       "  </tbody>\n",
       "</table>\n",
       "</div>"
      ],
      "text/plain": [
       "           rd_no       date_occurred date_officer_arrived         status_date  \\\n",
       "333489  JD368193 2020-09-03 10:00:00  2020-09-15 15:49:00 2020-11-23 15:20:06   \n",
       "\n",
       "           status  \n",
       "333489  SUSPENDED  "
      ]
     },
     "execution_count": 31,
     "metadata": {},
     "output_type": "execute_result"
    }
   ],
   "source": [
    "second.loc[second.rd_no == 'JD368193', \n",
    "           ['rd_no', 'date_occurred', \n",
    "            'date_officer_arrived', 'status_date', 'status']]"
   ]
  },
  {
   "cell_type": "code",
   "execution_count": 32,
   "id": "e7116663",
   "metadata": {},
   "outputs": [
    {
     "data": {
      "text/html": [
       "<div>\n",
       "<style scoped>\n",
       "    .dataframe tbody tr th:only-of-type {\n",
       "        vertical-align: middle;\n",
       "    }\n",
       "\n",
       "    .dataframe tbody tr th {\n",
       "        vertical-align: top;\n",
       "    }\n",
       "\n",
       "    .dataframe thead th {\n",
       "        text-align: right;\n",
       "    }\n",
       "</style>\n",
       "<table border=\"1\" class=\"dataframe\">\n",
       "  <thead>\n",
       "    <tr style=\"text-align: right;\">\n",
       "      <th></th>\n",
       "      <th>rd_no</th>\n",
       "      <th>date_occurred</th>\n",
       "      <th>date_officer_arrived</th>\n",
       "      <th>status</th>\n",
       "    </tr>\n",
       "    <tr>\n",
       "      <th>index</th>\n",
       "      <th></th>\n",
       "      <th></th>\n",
       "      <th></th>\n",
       "      <th></th>\n",
       "    </tr>\n",
       "  </thead>\n",
       "  <tbody>\n",
       "    <tr>\n",
       "      <th>18985</th>\n",
       "      <td>JD368193</td>\n",
       "      <td>2020-09-03 10:00:00</td>\n",
       "      <td>2020-09-15 15:49:00</td>\n",
       "      <td>OPEN ASSIGNED</td>\n",
       "    </tr>\n",
       "  </tbody>\n",
       "</table>\n",
       "</div>"
      ],
      "text/plain": [
       "          rd_no       date_occurred date_officer_arrived         status\n",
       "index                                                                  \n",
       "18985  JD368193 2020-09-03 10:00:00  2020-09-15 15:49:00  OPEN ASSIGNED"
      ]
     },
     "execution_count": 32,
     "metadata": {},
     "output_type": "execute_result"
    }
   ],
   "source": [
    "third.loc[third.rd_no == 'JD368193', \n",
    "           ['rd_no', 'date_occurred', \n",
    "            'date_officer_arrived', 'status']]"
   ]
  },
  {
   "cell_type": "code",
   "execution_count": 33,
   "id": "56d8e86b",
   "metadata": {},
   "outputs": [
    {
     "data": {
      "text/html": [
       "<div>\n",
       "<style scoped>\n",
       "    .dataframe tbody tr th:only-of-type {\n",
       "        vertical-align: middle;\n",
       "    }\n",
       "\n",
       "    .dataframe tbody tr th {\n",
       "        vertical-align: top;\n",
       "    }\n",
       "\n",
       "    .dataframe thead th {\n",
       "        text-align: right;\n",
       "    }\n",
       "</style>\n",
       "<table border=\"1\" class=\"dataframe\">\n",
       "  <thead>\n",
       "    <tr style=\"text-align: right;\">\n",
       "      <th></th>\n",
       "      <th>rd_no</th>\n",
       "      <th>date_occurred</th>\n",
       "      <th>date_officer_arrived</th>\n",
       "      <th>status</th>\n",
       "    </tr>\n",
       "  </thead>\n",
       "  <tbody>\n",
       "    <tr>\n",
       "      <th>5845</th>\n",
       "      <td>JD368193</td>\n",
       "      <td>2020-09-03 10:00:00</td>\n",
       "      <td>2020-09-15 15:49:00</td>\n",
       "      <td>CLOSED NON-CRIMINAL</td>\n",
       "    </tr>\n",
       "  </tbody>\n",
       "</table>\n",
       "</div>"
      ],
      "text/plain": [
       "         rd_no       date_occurred date_officer_arrived               status\n",
       "5845  JD368193 2020-09-03 10:00:00  2020-09-15 15:49:00  CLOSED NON-CRIMINAL"
      ]
     },
     "execution_count": 33,
     "metadata": {},
     "output_type": "execute_result"
    }
   ],
   "source": [
    "fourth.loc[fourth.rd_no == 'JD368193', \n",
    "           ['rd_no', 'date_occurred', \n",
    "            'date_officer_arrived', 'status']]"
   ]
  },
  {
   "cell_type": "code",
   "execution_count": 34,
   "id": "22d23269",
   "metadata": {},
   "outputs": [
    {
     "data": {
      "text/html": [
       "<div>\n",
       "<style scoped>\n",
       "    .dataframe tbody tr th:only-of-type {\n",
       "        vertical-align: middle;\n",
       "    }\n",
       "\n",
       "    .dataframe tbody tr th {\n",
       "        vertical-align: top;\n",
       "    }\n",
       "\n",
       "    .dataframe thead th {\n",
       "        text-align: right;\n",
       "    }\n",
       "</style>\n",
       "<table border=\"1\" class=\"dataframe\">\n",
       "  <thead>\n",
       "    <tr style=\"text-align: right;\">\n",
       "      <th></th>\n",
       "      <th>rd_no</th>\n",
       "      <th>date_occurred</th>\n",
       "      <th>date_officer_arrived</th>\n",
       "      <th>last_update</th>\n",
       "      <th>status</th>\n",
       "    </tr>\n",
       "  </thead>\n",
       "  <tbody>\n",
       "    <tr>\n",
       "      <th>365995</th>\n",
       "      <td>JD368193</td>\n",
       "      <td>2020-09-03 10:00:00</td>\n",
       "      <td>2020-09-15 15:49:00</td>\n",
       "      <td>2022-05-18 22:02:00</td>\n",
       "      <td>CLOSED NON-CRIMINAL</td>\n",
       "    </tr>\n",
       "    <tr>\n",
       "      <th>365996</th>\n",
       "      <td>JD368193</td>\n",
       "      <td>2020-09-03 10:00:00</td>\n",
       "      <td>2020-09-15 15:49:00</td>\n",
       "      <td>2022-05-18 22:02:00</td>\n",
       "      <td>CLOSED NON-CRIMINAL</td>\n",
       "    </tr>\n",
       "    <tr>\n",
       "      <th>365997</th>\n",
       "      <td>JD368193</td>\n",
       "      <td>2020-09-03 10:00:00</td>\n",
       "      <td>2020-09-15 15:49:00</td>\n",
       "      <td>2022-05-18 22:02:00</td>\n",
       "      <td>CLOSED NON-CRIMINAL</td>\n",
       "    </tr>\n",
       "  </tbody>\n",
       "</table>\n",
       "</div>"
      ],
      "text/plain": [
       "           rd_no       date_occurred date_officer_arrived         last_update  \\\n",
       "365995  JD368193 2020-09-03 10:00:00  2020-09-15 15:49:00 2022-05-18 22:02:00   \n",
       "365996  JD368193 2020-09-03 10:00:00  2020-09-15 15:49:00 2022-05-18 22:02:00   \n",
       "365997  JD368193 2020-09-03 10:00:00  2020-09-15 15:49:00 2022-05-18 22:02:00   \n",
       "\n",
       "                     status  \n",
       "365995  CLOSED NON-CRIMINAL  \n",
       "365996  CLOSED NON-CRIMINAL  \n",
       "365997  CLOSED NON-CRIMINAL  "
      ]
     },
     "execution_count": 34,
     "metadata": {},
     "output_type": "execute_result"
    }
   ],
   "source": [
    "sixth.loc[sixth.rd_no == 'JD368193', \n",
    "           ['rd_no', 'date_occurred', \n",
    "            'date_officer_arrived', 'last_update', 'status']]"
   ]
  },
  {
   "cell_type": "code",
   "execution_count": null,
   "id": "db78480d",
   "metadata": {},
   "outputs": [],
   "source": []
  }
 ],
 "metadata": {
  "kernelspec": {
   "display_name": "Python 3 (ipykernel)",
   "language": "python",
   "name": "python3"
  },
  "language_info": {
   "codemirror_mode": {
    "name": "ipython",
    "version": 3
   },
   "file_extension": ".py",
   "mimetype": "text/x-python",
   "name": "python",
   "nbconvert_exporter": "python",
   "pygments_lexer": "ipython3",
   "version": "3.10.11"
  }
 },
 "nbformat": 4,
 "nbformat_minor": 5
}
