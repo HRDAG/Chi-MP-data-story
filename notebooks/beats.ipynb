{
 "cells": [
  {
   "cell_type": "markdown",
   "id": "a2db88a7",
   "metadata": {},
   "source": [
    "# Where do reports come from?\n",
    "\n",
    "In the districts notebook, we used the reported `beat_occurred` field to extract the district that reports came from, and analyzed rates of officer responses (arrival time, notification to missing persons or special victims unit, closure date). \n",
    "\n",
    "Here, we can explore the geography of reports and a few exploratory analytical questions.\n",
    "\n",
    "examples:\n",
    "- What regions experience the most missing persons reports (by `beat_occurred`)?\n",
    "- How do rates of new reports change overtime for different regions (by `beat_occurred`)?\n",
    "- How might `beat_assigned` be used to understand police deployment? Will `beat_occurred` always be more accurate?"
   ]
  },
  {
   "cell_type": "code",
   "execution_count": 1,
   "id": "18c1f4b7",
   "metadata": {},
   "outputs": [
    {
     "name": "stderr",
     "output_type": "stream",
     "text": [
      "<frozen importlib._bootstrap>:241: RuntimeWarning: scipy._lib.messagestream.MessageStream size changed, may indicate binary incompatibility. Expected 56 from C header, got 64 from PyObject\n"
     ]
    }
   ],
   "source": [
    "# dependencies\n",
    "import pandas as pd\n",
    "import matplotlib.pyplot as plt \n",
    "\n",
    "import geopandas as gpd\n",
    "from mpl_toolkits.axes_grid1 import make_axes_locatable \n",
    "import geoplot as gplt\n",
    "import geoplot.crs as gcrs\n",
    "import mapclassify as mc\n",
    "import folium"
   ]
  },
  {
   "cell_type": "code",
   "execution_count": 2,
   "id": "ed7cd47d",
   "metadata": {},
   "outputs": [],
   "source": [
    "# support methods\n",
    "def prep_mp(df):\n",
    "    copy = df.copy().reset_index().drop(columns='index')\n",
    "    copy.beat_occurred = copy.beat_occurred.astype(str).str.replace(\".0\", \"\")\n",
    "    copy.loc[copy.beat_occurred.str.len() == 3, \n",
    "             'beat_occurred'] = \"0\" + copy.beat_occurred\n",
    "    return copy\n",
    "\n",
    "def prep_geodata(f):\n",
    "    geo_df = gpd.read_file(f)\n",
    "    current_crs = geo_df.crs\n",
    "    geo_df.to_crs(epsg=3857, inplace=True)\n",
    "    return geo_df\n",
    "\n",
    "def add_fields(geo_df):\n",
    "    assert 'geometry' in geo_df.columns\n",
    "    copy = geo_df.copy()\n",
    "    copy['area'] = copy.geometry.area\n",
    "    return copy"
   ]
  },
  {
   "cell_type": "code",
   "execution_count": 3,
   "id": "e70363eb",
   "metadata": {},
   "outputs": [],
   "source": [
    "mp = pd.read_parquet(\"../import/output/mp.parquet\")\n",
    "mp = prep_mp(mp)\n",
    "extras = pd.read_parquet(\"../import/input/extras.parquet\")\n",
    "\n",
    "city_beats = pd.read_csv(\"../import/input/PoliceBeatDec2012.csv\")\n",
    "geo_gjs = prep_geodata(\"../import/input/Boundaries - Police Beats (current).geojson\")\n",
    "geo_gjs = add_fields(geo_gjs)"
   ]
  },
  {
   "cell_type": "code",
   "execution_count": 4,
   "id": "be2fe71c",
   "metadata": {},
   "outputs": [
    {
     "data": {
      "text/html": [
       "<div>\n",
       "<style scoped>\n",
       "    .dataframe tbody tr th:only-of-type {\n",
       "        vertical-align: middle;\n",
       "    }\n",
       "\n",
       "    .dataframe tbody tr th {\n",
       "        vertical-align: top;\n",
       "    }\n",
       "\n",
       "    .dataframe thead th {\n",
       "        text-align: right;\n",
       "    }\n",
       "</style>\n",
       "<table border=\"1\" class=\"dataframe\">\n",
       "  <thead>\n",
       "    <tr style=\"text-align: right;\">\n",
       "      <th></th>\n",
       "      <th>rd_no</th>\n",
       "      <th>date_occurred</th>\n",
       "      <th>race</th>\n",
       "      <th>sex</th>\n",
       "      <th>age_group</th>\n",
       "    </tr>\n",
       "  </thead>\n",
       "  <tbody>\n",
       "    <tr>\n",
       "      <th>32396</th>\n",
       "      <td>HL733703</td>\n",
       "      <td>2005-02-21 14:00:00</td>\n",
       "      <td>BLACK</td>\n",
       "      <td>F</td>\n",
       "      <td>youth (10-20)</td>\n",
       "    </tr>\n",
       "    <tr>\n",
       "      <th>323137</th>\n",
       "      <td>F087866</td>\n",
       "      <td>2000-02-12 16:00:00</td>\n",
       "      <td>BLACK</td>\n",
       "      <td>F</td>\n",
       "      <td>adult (21-59)</td>\n",
       "    </tr>\n",
       "    <tr>\n",
       "      <th>328425</th>\n",
       "      <td>HX345567</td>\n",
       "      <td>2014-07-13 15:00:00</td>\n",
       "      <td>BLACK</td>\n",
       "      <td>F</td>\n",
       "      <td>youth (10-20)</td>\n",
       "    </tr>\n",
       "    <tr>\n",
       "      <th>127896</th>\n",
       "      <td>HN311739</td>\n",
       "      <td>2007-04-27 23:30:00</td>\n",
       "      <td>BLACK</td>\n",
       "      <td>F</td>\n",
       "      <td>youth (10-20)</td>\n",
       "    </tr>\n",
       "    <tr>\n",
       "      <th>25805</th>\n",
       "      <td>F362863</td>\n",
       "      <td>2000-06-16 17:00:00</td>\n",
       "      <td>WHITE</td>\n",
       "      <td>F</td>\n",
       "      <td>youth (10-20)</td>\n",
       "    </tr>\n",
       "  </tbody>\n",
       "</table>\n",
       "</div>"
      ],
      "text/plain": [
       "           rd_no       date_occurred   race sex      age_group\n",
       "32396   HL733703 2005-02-21 14:00:00  BLACK   F  youth (10-20)\n",
       "323137   F087866 2000-02-12 16:00:00  BLACK   F  adult (21-59)\n",
       "328425  HX345567 2014-07-13 15:00:00  BLACK   F  youth (10-20)\n",
       "127896  HN311739 2007-04-27 23:30:00  BLACK   F  youth (10-20)\n",
       "25805    F362863 2000-06-16 17:00:00  WHITE   F  youth (10-20)"
      ]
     },
     "execution_count": 4,
     "metadata": {},
     "output_type": "execute_result"
    }
   ],
   "source": [
    "mp.sample(5)[['rd_no', 'date_occurred', 'race', 'sex', 'age_group']]"
   ]
  },
  {
   "cell_type": "code",
   "execution_count": 5,
   "id": "79828943",
   "metadata": {},
   "outputs": [
    {
     "data": {
      "text/html": [
       "<div>\n",
       "<style scoped>\n",
       "    .dataframe tbody tr th:only-of-type {\n",
       "        vertical-align: middle;\n",
       "    }\n",
       "\n",
       "    .dataframe tbody tr th {\n",
       "        vertical-align: top;\n",
       "    }\n",
       "\n",
       "    .dataframe thead th {\n",
       "        text-align: right;\n",
       "    }\n",
       "</style>\n",
       "<table border=\"1\" class=\"dataframe\">\n",
       "  <thead>\n",
       "    <tr style=\"text-align: right;\">\n",
       "      <th></th>\n",
       "      <th>beat</th>\n",
       "      <th>beat_num</th>\n",
       "      <th>district</th>\n",
       "      <th>sector</th>\n",
       "      <th>geometry</th>\n",
       "      <th>area</th>\n",
       "    </tr>\n",
       "  </thead>\n",
       "  <tbody>\n",
       "    <tr>\n",
       "      <th>0</th>\n",
       "      <td>1</td>\n",
       "      <td>1713</td>\n",
       "      <td>17</td>\n",
       "      <td>1</td>\n",
       "      <td>MULTIPOLYGON (((-9763245.357 5157351.262, -976...</td>\n",
       "      <td>2.122702e+06</td>\n",
       "    </tr>\n",
       "    <tr>\n",
       "      <th>1</th>\n",
       "      <td>0</td>\n",
       "      <td>3100</td>\n",
       "      <td>31</td>\n",
       "      <td>0</td>\n",
       "      <td>MULTIPOLYGON (((-9777597.699 5157288.429, -977...</td>\n",
       "      <td>1.446049e+07</td>\n",
       "    </tr>\n",
       "    <tr>\n",
       "      <th>2</th>\n",
       "      <td>5</td>\n",
       "      <td>1651</td>\n",
       "      <td>16</td>\n",
       "      <td>5</td>\n",
       "      <td>MULTIPOLYGON (((-9785744.852 5157469.155, -978...</td>\n",
       "      <td>5.327867e+05</td>\n",
       "    </tr>\n",
       "    <tr>\n",
       "      <th>3</th>\n",
       "      <td>1</td>\n",
       "      <td>1914</td>\n",
       "      <td>19</td>\n",
       "      <td>1</td>\n",
       "      <td>MULTIPOLYGON (((-9756587.641 5156445.788, -975...</td>\n",
       "      <td>2.140261e+06</td>\n",
       "    </tr>\n",
       "    <tr>\n",
       "      <th>4</th>\n",
       "      <td>1</td>\n",
       "      <td>1915</td>\n",
       "      <td>19</td>\n",
       "      <td>1</td>\n",
       "      <td>MULTIPOLYGON (((-9755733.079 5155885.937, -975...</td>\n",
       "      <td>3.196374e+06</td>\n",
       "    </tr>\n",
       "  </tbody>\n",
       "</table>\n",
       "</div>"
      ],
      "text/plain": [
       "  beat beat_num district sector  \\\n",
       "0    1     1713       17      1   \n",
       "1    0     3100       31      0   \n",
       "2    5     1651       16      5   \n",
       "3    1     1914       19      1   \n",
       "4    1     1915       19      1   \n",
       "\n",
       "                                            geometry          area  \n",
       "0  MULTIPOLYGON (((-9763245.357 5157351.262, -976...  2.122702e+06  \n",
       "1  MULTIPOLYGON (((-9777597.699 5157288.429, -977...  1.446049e+07  \n",
       "2  MULTIPOLYGON (((-9785744.852 5157469.155, -978...  5.327867e+05  \n",
       "3  MULTIPOLYGON (((-9756587.641 5156445.788, -975...  2.140261e+06  \n",
       "4  MULTIPOLYGON (((-9755733.079 5155885.937, -975...  3.196374e+06  "
      ]
     },
     "execution_count": 5,
     "metadata": {},
     "output_type": "execute_result"
    }
   ],
   "source": [
    "geo_gjs.head()"
   ]
  },
  {
   "cell_type": "markdown",
   "id": "c9d2c155",
   "metadata": {},
   "source": [
    "### location\n",
    "- talk about last seen location, address, beat (or district) occurred\n",
    "- **do certain areas of Chicago have more missing persons reports than others?** cross beat occurred with monthly counts of new rdnos"
   ]
  },
  {
   "cell_type": "markdown",
   "id": "00693a43",
   "metadata": {},
   "source": [
    "#### what are the valid district, sector, and beat values?"
   ]
  },
  {
   "cell_type": "code",
   "execution_count": 6,
   "id": "d9ba254e",
   "metadata": {},
   "outputs": [
    {
     "name": "stdout",
     "output_type": "stream",
     "text": [
      "0 in city_dists:\tFalse\n",
      "1 in city_dists:\tTrue\n",
      "2 in city_dists:\tTrue\n",
      "3 in city_dists:\tTrue\n",
      "4 in city_dists:\tTrue\n",
      "5 in city_dists:\tTrue\n",
      "6 in city_dists:\tTrue\n",
      "7 in city_dists:\tTrue\n",
      "8 in city_dists:\tTrue\n",
      "9 in city_dists:\tTrue\n",
      "10 in city_dists:\tTrue\n",
      "11 in city_dists:\tTrue\n",
      "12 in city_dists:\tTrue\n",
      "13 in city_dists:\tFalse\n",
      "14 in city_dists:\tTrue\n",
      "15 in city_dists:\tTrue\n",
      "16 in city_dists:\tTrue\n",
      "17 in city_dists:\tTrue\n",
      "18 in city_dists:\tTrue\n",
      "19 in city_dists:\tTrue\n",
      "20 in city_dists:\tTrue\n",
      "21 in city_dists:\tFalse\n",
      "22 in city_dists:\tTrue\n",
      "23 in city_dists:\tFalse\n",
      "24 in city_dists:\tTrue\n",
      "25 in city_dists:\tTrue\n",
      "26 in city_dists:\tFalse\n",
      "27 in city_dists:\tFalse\n",
      "28 in city_dists:\tFalse\n",
      "29 in city_dists:\tFalse\n",
      "30 in city_dists:\tFalse\n",
      "31 in city_dists:\tTrue\n"
     ]
    }
   ],
   "source": [
    "dists = city_beats.DISTRICT.unique()\n",
    "sects = city_beats.SECTOR.unique()\n",
    "beats = city_beats.BEAT.unique()\n",
    "\n",
    "# note: sectors and beats both appear in range (0, 5) inclusive (shown in later step)\n",
    "for i in range(0, max(dists)+1):\n",
    "    print(f'{i} in city_dists:\\t{i in dists}')"
   ]
  },
  {
   "cell_type": "code",
   "execution_count": 7,
   "id": "e04bda22",
   "metadata": {},
   "outputs": [
    {
     "data": {
      "text/plain": [
       "array([1, 0, 5, 3, 2])"
      ]
     },
     "execution_count": 7,
     "metadata": {},
     "output_type": "execute_result"
    }
   ],
   "source": [
    "sects"
   ]
  },
  {
   "cell_type": "code",
   "execution_count": 8,
   "id": "fdd0bad0",
   "metadata": {},
   "outputs": [
    {
     "data": {
      "text/plain": [
       "array([1, 0, 5, 3, 2])"
      ]
     },
     "execution_count": 8,
     "metadata": {},
     "output_type": "execute_result"
    }
   ],
   "source": [
    "beats"
   ]
  },
  {
   "cell_type": "markdown",
   "id": "06c5f0e3",
   "metadata": {},
   "source": [
    "#### do all the beats we observe match the city's data? any invalid?"
   ]
  },
  {
   "cell_type": "code",
   "execution_count": 9,
   "id": "c8c44e38",
   "metadata": {},
   "outputs": [
    {
     "name": "stdout",
     "output_type": "stream",
     "text": [
      "improperly short beat_occurred:\t 0\n",
      "improperly short beat_assigned:\t 2\n"
     ]
    }
   ],
   "source": [
    "mp['short_beat_occurred'] = mp.beat_occurred.str.len() < 3\n",
    "mp['short_beat_assigned'] = mp.beat_assigned.str.len() < 3\n",
    "\n",
    "print('improperly short beat_occurred:\\t', mp.short_beat_occurred.sum())\n",
    "print('improperly short beat_assigned:\\t', mp.short_beat_assigned.sum())"
   ]
  },
  {
   "cell_type": "code",
   "execution_count": 10,
   "id": "ad3d57c0",
   "metadata": {},
   "outputs": [
    {
     "data": {
      "text/html": [
       "<div>\n",
       "<style scoped>\n",
       "    .dataframe tbody tr th:only-of-type {\n",
       "        vertical-align: middle;\n",
       "    }\n",
       "\n",
       "    .dataframe tbody tr th {\n",
       "        vertical-align: top;\n",
       "    }\n",
       "\n",
       "    .dataframe thead th {\n",
       "        text-align: right;\n",
       "    }\n",
       "</style>\n",
       "<table border=\"1\" class=\"dataframe\">\n",
       "  <thead>\n",
       "    <tr style=\"text-align: right;\">\n",
       "      <th></th>\n",
       "      <th>rd_no</th>\n",
       "      <th>beat_occurred</th>\n",
       "      <th>beat_assigned</th>\n",
       "      <th>race</th>\n",
       "      <th>sex</th>\n",
       "      <th>age</th>\n",
       "      <th>age_group</th>\n",
       "      <th>address</th>\n",
       "      <th>status</th>\n",
       "      <th>tta_group</th>\n",
       "      <th>ttc_group</th>\n",
       "    </tr>\n",
       "  </thead>\n",
       "  <tbody>\n",
       "    <tr>\n",
       "      <th>95583</th>\n",
       "      <td>HS318761</td>\n",
       "      <td>0111</td>\n",
       "      <td>3N</td>\n",
       "      <td>None</td>\n",
       "      <td>None</td>\n",
       "      <td>NaN</td>\n",
       "      <td>None</td>\n",
       "      <td>2XX S CANAL ST, CHICAGO</td>\n",
       "      <td>CLOSED NON-CRIMINAL</td>\n",
       "      <td>MISSING</td>\n",
       "      <td>MISSING</td>\n",
       "    </tr>\n",
       "    <tr>\n",
       "      <th>250341</th>\n",
       "      <td>HJ104231</td>\n",
       "      <td>1111</td>\n",
       "      <td>11</td>\n",
       "      <td>BLACK</td>\n",
       "      <td>F</td>\n",
       "      <td>17.0</td>\n",
       "      <td>youth (10-20)</td>\n",
       "      <td>44XX W THOMAS ST, CHICAGO</td>\n",
       "      <td>CLOSED NON-CRIMINAL</td>\n",
       "      <td>MISSING</td>\n",
       "      <td>MISSING</td>\n",
       "    </tr>\n",
       "  </tbody>\n",
       "</table>\n",
       "</div>"
      ],
      "text/plain": [
       "           rd_no beat_occurred beat_assigned   race   sex   age  \\\n",
       "95583   HS318761          0111            3N   None  None   NaN   \n",
       "250341  HJ104231          1111            11  BLACK     F  17.0   \n",
       "\n",
       "            age_group                    address               status  \\\n",
       "95583            None    2XX S CANAL ST, CHICAGO  CLOSED NON-CRIMINAL   \n",
       "250341  youth (10-20)  44XX W THOMAS ST, CHICAGO  CLOSED NON-CRIMINAL   \n",
       "\n",
       "       tta_group ttc_group  \n",
       "95583    MISSING   MISSING  \n",
       "250341   MISSING   MISSING  "
      ]
     },
     "execution_count": 10,
     "metadata": {},
     "output_type": "execute_result"
    }
   ],
   "source": [
    "mp.loc[mp.beat_assigned.str.len() < 3, ['rd_no', 'beat_occurred', 'beat_assigned', \n",
    "                                        'race', 'sex', 'age', 'age_group', 'address', \n",
    "                                        'status', 'tta_group', 'ttc_group']]"
   ]
  },
  {
   "cell_type": "markdown",
   "id": "0f2fcb16",
   "metadata": {},
   "source": [
    "#### review valid beats"
   ]
  },
  {
   "cell_type": "code",
   "execution_count": 11,
   "id": "141917a2",
   "metadata": {},
   "outputs": [
    {
     "data": {
      "text/html": [
       "<div>\n",
       "<style scoped>\n",
       "    .dataframe tbody tr th:only-of-type {\n",
       "        vertical-align: middle;\n",
       "    }\n",
       "\n",
       "    .dataframe tbody tr th {\n",
       "        vertical-align: top;\n",
       "    }\n",
       "\n",
       "    .dataframe thead th {\n",
       "        text-align: right;\n",
       "    }\n",
       "</style>\n",
       "<table border=\"1\" class=\"dataframe\">\n",
       "  <thead>\n",
       "    <tr style=\"text-align: right;\">\n",
       "      <th></th>\n",
       "      <th>rd_no</th>\n",
       "      <th>address</th>\n",
       "      <th>beat_occurred</th>\n",
       "      <th>beat_assigned</th>\n",
       "      <th>city_district_occurred</th>\n",
       "      <th>city_sector_occurred</th>\n",
       "      <th>city_beat_occurred</th>\n",
       "    </tr>\n",
       "  </thead>\n",
       "  <tbody>\n",
       "    <tr>\n",
       "      <th>0</th>\n",
       "      <td>F012033</td>\n",
       "      <td>63XX S KING DR, CHICAGO</td>\n",
       "      <td>0312</td>\n",
       "      <td>0312</td>\n",
       "      <td>3</td>\n",
       "      <td>1</td>\n",
       "      <td>2</td>\n",
       "    </tr>\n",
       "    <tr>\n",
       "      <th>1</th>\n",
       "      <td>F021758</td>\n",
       "      <td>17XX N DRAKE AV, CHICAGO</td>\n",
       "      <td>1422</td>\n",
       "      <td>2502</td>\n",
       "      <td>14</td>\n",
       "      <td>2</td>\n",
       "      <td>2</td>\n",
       "    </tr>\n",
       "    <tr>\n",
       "      <th>2</th>\n",
       "      <td>F094577</td>\n",
       "      <td>26XX N CALIFORNIA AV, CHICAGO</td>\n",
       "      <td>1411</td>\n",
       "      <td>1411</td>\n",
       "      <td>14</td>\n",
       "      <td>1</td>\n",
       "      <td>1</td>\n",
       "    </tr>\n",
       "    <tr>\n",
       "      <th>3</th>\n",
       "      <td>F121480</td>\n",
       "      <td>7XX N ELIZABETH ST, CHICAGO</td>\n",
       "      <td>1324</td>\n",
       "      <td>1341</td>\n",
       "      <td>13</td>\n",
       "      <td>2</td>\n",
       "      <td>4</td>\n",
       "    </tr>\n",
       "    <tr>\n",
       "      <th>4</th>\n",
       "      <td>F118317</td>\n",
       "      <td>48XX S INDIANA AV, CHICAGO</td>\n",
       "      <td>0224</td>\n",
       "      <td>0233</td>\n",
       "      <td>2</td>\n",
       "      <td>2</td>\n",
       "      <td>4</td>\n",
       "    </tr>\n",
       "    <tr>\n",
       "      <th>...</th>\n",
       "      <td>...</td>\n",
       "      <td>...</td>\n",
       "      <td>...</td>\n",
       "      <td>...</td>\n",
       "      <td>...</td>\n",
       "      <td>...</td>\n",
       "      <td>...</td>\n",
       "    </tr>\n",
       "    <tr>\n",
       "      <th>352906</th>\n",
       "      <td>HW137496</td>\n",
       "      <td>114XX S BISHOP ST</td>\n",
       "      <td>2234</td>\n",
       "      <td>6252</td>\n",
       "      <td>None</td>\n",
       "      <td>None</td>\n",
       "      <td>None</td>\n",
       "    </tr>\n",
       "    <tr>\n",
       "      <th>352907</th>\n",
       "      <td>HW220644</td>\n",
       "      <td>1XX N LOTUS AVE</td>\n",
       "      <td>1523</td>\n",
       "      <td>6253</td>\n",
       "      <td>None</td>\n",
       "      <td>None</td>\n",
       "      <td>None</td>\n",
       "    </tr>\n",
       "    <tr>\n",
       "      <th>352908</th>\n",
       "      <td>HW278331</td>\n",
       "      <td>33XX W FILLMORE ST</td>\n",
       "      <td>1134</td>\n",
       "      <td>6235</td>\n",
       "      <td>None</td>\n",
       "      <td>None</td>\n",
       "      <td>None</td>\n",
       "    </tr>\n",
       "    <tr>\n",
       "      <th>352909</th>\n",
       "      <td>HW530680</td>\n",
       "      <td>78XX S MORGAN ST</td>\n",
       "      <td>0612</td>\n",
       "      <td>6213</td>\n",
       "      <td>None</td>\n",
       "      <td>None</td>\n",
       "      <td>None</td>\n",
       "    </tr>\n",
       "    <tr>\n",
       "      <th>352910</th>\n",
       "      <td>HW575104</td>\n",
       "      <td>XX W CTA OHARE PLATFORM ST</td>\n",
       "      <td>1654</td>\n",
       "      <td>7262A</td>\n",
       "      <td>None</td>\n",
       "      <td>None</td>\n",
       "      <td>None</td>\n",
       "    </tr>\n",
       "  </tbody>\n",
       "</table>\n",
       "<p>352911 rows × 7 columns</p>\n",
       "</div>"
      ],
      "text/plain": [
       "           rd_no                        address beat_occurred beat_assigned  \\\n",
       "0        F012033        63XX S KING DR, CHICAGO          0312          0312   \n",
       "1        F021758       17XX N DRAKE AV, CHICAGO          1422          2502   \n",
       "2        F094577  26XX N CALIFORNIA AV, CHICAGO          1411          1411   \n",
       "3        F121480    7XX N ELIZABETH ST, CHICAGO          1324          1341   \n",
       "4        F118317     48XX S INDIANA AV, CHICAGO          0224          0233   \n",
       "...          ...                            ...           ...           ...   \n",
       "352906  HW137496              114XX S BISHOP ST          2234          6252   \n",
       "352907  HW220644                1XX N LOTUS AVE          1523          6253   \n",
       "352908  HW278331             33XX W FILLMORE ST          1134          6235   \n",
       "352909  HW530680               78XX S MORGAN ST          0612          6213   \n",
       "352910  HW575104     XX W CTA OHARE PLATFORM ST          1654         7262A   \n",
       "\n",
       "       city_district_occurred city_sector_occurred city_beat_occurred  \n",
       "0                           3                    1                  2  \n",
       "1                          14                    2                  2  \n",
       "2                          14                    1                  1  \n",
       "3                          13                    2                  4  \n",
       "4                           2                    2                  4  \n",
       "...                       ...                  ...                ...  \n",
       "352906                   None                 None               None  \n",
       "352907                   None                 None               None  \n",
       "352908                   None                 None               None  \n",
       "352909                   None                 None               None  \n",
       "352910                   None                 None               None  \n",
       "\n",
       "[352911 rows x 7 columns]"
      ]
     },
     "execution_count": 11,
     "metadata": {},
     "output_type": "execute_result"
    }
   ],
   "source": [
    "beats = mp[['rd_no', 'address', \n",
    "            'beat_occurred', 'beat_assigned', \n",
    "            'city_district_occurred', 'city_sector_occurred', 'city_beat_occurred',]\n",
    "          ].copy()\n",
    "beats.loc[beats.beat_assigned.str.len() == 3, 'beat_assigned'] = \"0\" + beats.beat_assigned\n",
    "beats.loc[beats.beat_assigned.str.len() < 3, 'beat_assigned'] = None\n",
    "beats"
   ]
  },
  {
   "cell_type": "code",
   "execution_count": 12,
   "id": "2b6e40d3",
   "metadata": {},
   "outputs": [
    {
     "data": {
      "text/plain": [
       "122791"
      ]
     },
     "execution_count": 12,
     "metadata": {},
     "output_type": "execute_result"
    }
   ],
   "source": [
    "# how often is the beat_assigned the same as the occurence beat?\n",
    "beats.loc[beats.beat_occurred == beats.beat_assigned].shape[0]"
   ]
  },
  {
   "cell_type": "code",
   "execution_count": 13,
   "id": "9b990ce0",
   "metadata": {},
   "outputs": [
    {
     "data": {
      "text/plain": [
       "0.65"
      ]
     },
     "execution_count": 13,
     "metadata": {},
     "output_type": "execute_result"
    }
   ],
   "source": [
    "# how often do beat_assigned and beat_occurred not match?\n",
    "round(beats.loc[beats.beat_occurred != beats.beat_assigned].shape[0] / beats.shape[0], 2)"
   ]
  },
  {
   "cell_type": "code",
   "execution_count": 14,
   "id": "ae7cc618",
   "metadata": {},
   "outputs": [],
   "source": [
    "beats['temp_beat_assigned'] = beats.beat_assigned\n",
    "beats['city_district_assigned'] = beats.temp_beat_assigned.str[:2]\n",
    "beats['city_sector_assigned'] = beats.temp_beat_assigned.str[2]\n",
    "beats['city_beat_assigned'] = beats.temp_beat_assigned.str[3:]\n",
    "beats.drop(columns='temp_beat_assigned', inplace=True)"
   ]
  },
  {
   "cell_type": "code",
   "execution_count": 15,
   "id": "edcf7202",
   "metadata": {},
   "outputs": [
    {
     "data": {
      "text/html": [
       "<div>\n",
       "<style scoped>\n",
       "    .dataframe tbody tr th:only-of-type {\n",
       "        vertical-align: middle;\n",
       "    }\n",
       "\n",
       "    .dataframe tbody tr th {\n",
       "        vertical-align: top;\n",
       "    }\n",
       "\n",
       "    .dataframe thead th {\n",
       "        text-align: right;\n",
       "    }\n",
       "</style>\n",
       "<table border=\"1\" class=\"dataframe\">\n",
       "  <thead>\n",
       "    <tr style=\"text-align: right;\">\n",
       "      <th></th>\n",
       "      <th>rd_no</th>\n",
       "      <th>address</th>\n",
       "      <th>beat_occurred</th>\n",
       "      <th>beat_assigned</th>\n",
       "      <th>city_district_occurred</th>\n",
       "      <th>city_sector_occurred</th>\n",
       "      <th>city_beat_occurred</th>\n",
       "      <th>city_district_assigned</th>\n",
       "      <th>city_sector_assigned</th>\n",
       "      <th>city_beat_assigned</th>\n",
       "    </tr>\n",
       "  </thead>\n",
       "  <tbody>\n",
       "    <tr>\n",
       "      <th>0</th>\n",
       "      <td>F012033</td>\n",
       "      <td>63XX S KING DR, CHICAGO</td>\n",
       "      <td>0312</td>\n",
       "      <td>0312</td>\n",
       "      <td>3</td>\n",
       "      <td>1</td>\n",
       "      <td>2</td>\n",
       "      <td>03</td>\n",
       "      <td>1</td>\n",
       "      <td>2</td>\n",
       "    </tr>\n",
       "    <tr>\n",
       "      <th>1</th>\n",
       "      <td>F021758</td>\n",
       "      <td>17XX N DRAKE AV, CHICAGO</td>\n",
       "      <td>1422</td>\n",
       "      <td>2502</td>\n",
       "      <td>14</td>\n",
       "      <td>2</td>\n",
       "      <td>2</td>\n",
       "      <td>25</td>\n",
       "      <td>0</td>\n",
       "      <td>2</td>\n",
       "    </tr>\n",
       "    <tr>\n",
       "      <th>2</th>\n",
       "      <td>F094577</td>\n",
       "      <td>26XX N CALIFORNIA AV, CHICAGO</td>\n",
       "      <td>1411</td>\n",
       "      <td>1411</td>\n",
       "      <td>14</td>\n",
       "      <td>1</td>\n",
       "      <td>1</td>\n",
       "      <td>14</td>\n",
       "      <td>1</td>\n",
       "      <td>1</td>\n",
       "    </tr>\n",
       "    <tr>\n",
       "      <th>3</th>\n",
       "      <td>F121480</td>\n",
       "      <td>7XX N ELIZABETH ST, CHICAGO</td>\n",
       "      <td>1324</td>\n",
       "      <td>1341</td>\n",
       "      <td>13</td>\n",
       "      <td>2</td>\n",
       "      <td>4</td>\n",
       "      <td>13</td>\n",
       "      <td>4</td>\n",
       "      <td>1</td>\n",
       "    </tr>\n",
       "    <tr>\n",
       "      <th>4</th>\n",
       "      <td>F118317</td>\n",
       "      <td>48XX S INDIANA AV, CHICAGO</td>\n",
       "      <td>0224</td>\n",
       "      <td>0233</td>\n",
       "      <td>2</td>\n",
       "      <td>2</td>\n",
       "      <td>4</td>\n",
       "      <td>02</td>\n",
       "      <td>3</td>\n",
       "      <td>3</td>\n",
       "    </tr>\n",
       "    <tr>\n",
       "      <th>...</th>\n",
       "      <td>...</td>\n",
       "      <td>...</td>\n",
       "      <td>...</td>\n",
       "      <td>...</td>\n",
       "      <td>...</td>\n",
       "      <td>...</td>\n",
       "      <td>...</td>\n",
       "      <td>...</td>\n",
       "      <td>...</td>\n",
       "      <td>...</td>\n",
       "    </tr>\n",
       "    <tr>\n",
       "      <th>352906</th>\n",
       "      <td>HW137496</td>\n",
       "      <td>114XX S BISHOP ST</td>\n",
       "      <td>2234</td>\n",
       "      <td>6252</td>\n",
       "      <td>None</td>\n",
       "      <td>None</td>\n",
       "      <td>None</td>\n",
       "      <td>62</td>\n",
       "      <td>5</td>\n",
       "      <td>2</td>\n",
       "    </tr>\n",
       "    <tr>\n",
       "      <th>352907</th>\n",
       "      <td>HW220644</td>\n",
       "      <td>1XX N LOTUS AVE</td>\n",
       "      <td>1523</td>\n",
       "      <td>6253</td>\n",
       "      <td>None</td>\n",
       "      <td>None</td>\n",
       "      <td>None</td>\n",
       "      <td>62</td>\n",
       "      <td>5</td>\n",
       "      <td>3</td>\n",
       "    </tr>\n",
       "    <tr>\n",
       "      <th>352908</th>\n",
       "      <td>HW278331</td>\n",
       "      <td>33XX W FILLMORE ST</td>\n",
       "      <td>1134</td>\n",
       "      <td>6235</td>\n",
       "      <td>None</td>\n",
       "      <td>None</td>\n",
       "      <td>None</td>\n",
       "      <td>62</td>\n",
       "      <td>3</td>\n",
       "      <td>5</td>\n",
       "    </tr>\n",
       "    <tr>\n",
       "      <th>352909</th>\n",
       "      <td>HW530680</td>\n",
       "      <td>78XX S MORGAN ST</td>\n",
       "      <td>0612</td>\n",
       "      <td>6213</td>\n",
       "      <td>None</td>\n",
       "      <td>None</td>\n",
       "      <td>None</td>\n",
       "      <td>62</td>\n",
       "      <td>1</td>\n",
       "      <td>3</td>\n",
       "    </tr>\n",
       "    <tr>\n",
       "      <th>352910</th>\n",
       "      <td>HW575104</td>\n",
       "      <td>XX W CTA OHARE PLATFORM ST</td>\n",
       "      <td>1654</td>\n",
       "      <td>7262A</td>\n",
       "      <td>None</td>\n",
       "      <td>None</td>\n",
       "      <td>None</td>\n",
       "      <td>72</td>\n",
       "      <td>6</td>\n",
       "      <td>2A</td>\n",
       "    </tr>\n",
       "  </tbody>\n",
       "</table>\n",
       "<p>352911 rows × 10 columns</p>\n",
       "</div>"
      ],
      "text/plain": [
       "           rd_no                        address beat_occurred beat_assigned  \\\n",
       "0        F012033        63XX S KING DR, CHICAGO          0312          0312   \n",
       "1        F021758       17XX N DRAKE AV, CHICAGO          1422          2502   \n",
       "2        F094577  26XX N CALIFORNIA AV, CHICAGO          1411          1411   \n",
       "3        F121480    7XX N ELIZABETH ST, CHICAGO          1324          1341   \n",
       "4        F118317     48XX S INDIANA AV, CHICAGO          0224          0233   \n",
       "...          ...                            ...           ...           ...   \n",
       "352906  HW137496              114XX S BISHOP ST          2234          6252   \n",
       "352907  HW220644                1XX N LOTUS AVE          1523          6253   \n",
       "352908  HW278331             33XX W FILLMORE ST          1134          6235   \n",
       "352909  HW530680               78XX S MORGAN ST          0612          6213   \n",
       "352910  HW575104     XX W CTA OHARE PLATFORM ST          1654         7262A   \n",
       "\n",
       "       city_district_occurred city_sector_occurred city_beat_occurred  \\\n",
       "0                           3                    1                  2   \n",
       "1                          14                    2                  2   \n",
       "2                          14                    1                  1   \n",
       "3                          13                    2                  4   \n",
       "4                           2                    2                  4   \n",
       "...                       ...                  ...                ...   \n",
       "352906                   None                 None               None   \n",
       "352907                   None                 None               None   \n",
       "352908                   None                 None               None   \n",
       "352909                   None                 None               None   \n",
       "352910                   None                 None               None   \n",
       "\n",
       "       city_district_assigned city_sector_assigned city_beat_assigned  \n",
       "0                          03                    1                  2  \n",
       "1                          25                    0                  2  \n",
       "2                          14                    1                  1  \n",
       "3                          13                    4                  1  \n",
       "4                          02                    3                  3  \n",
       "...                       ...                  ...                ...  \n",
       "352906                     62                    5                  2  \n",
       "352907                     62                    5                  3  \n",
       "352908                     62                    3                  5  \n",
       "352909                     62                    1                  3  \n",
       "352910                     72                    6                 2A  \n",
       "\n",
       "[352911 rows x 10 columns]"
      ]
     },
     "execution_count": 15,
     "metadata": {},
     "output_type": "execute_result"
    }
   ],
   "source": [
    "beats[['rd_no', 'address', \n",
    "       'beat_occurred', 'beat_assigned', \n",
    "       'city_district_occurred', 'city_sector_occurred', 'city_beat_occurred', \n",
    "       'city_district_assigned', 'city_sector_assigned', 'city_beat_assigned']]"
   ]
  },
  {
   "cell_type": "code",
   "execution_count": 16,
   "id": "3d3030df",
   "metadata": {},
   "outputs": [
    {
     "data": {
      "text/plain": [
       "city_district_assigned\n",
       "24    27703\n",
       "20    20527\n",
       "07    19452\n",
       "02    19314\n",
       "08    19115\n",
       "      ...  \n",
       "97        1\n",
       "95        1\n",
       "70        1\n",
       "61        1\n",
       "00        1\n",
       "Name: count, Length: 72, dtype: int64"
      ]
     },
     "execution_count": 16,
     "metadata": {},
     "output_type": "execute_result"
    }
   ],
   "source": [
    "beats.city_district_assigned.value_counts()"
   ]
  },
  {
   "cell_type": "markdown",
   "id": "78c541a3",
   "metadata": {},
   "source": [
    "### what districts are observed outside of the city's guidelines?\n",
    "Note: we've been advised that certain district numbers are used for airport zones \\\n",
    "Note 2: as with any region in a period over 20 years, these maps can change, so we should look to see if unexpected values are from a certain point in time."
   ]
  },
  {
   "cell_type": "code",
   "execution_count": 17,
   "id": "dd758fe4",
   "metadata": {},
   "outputs": [
    {
     "name": "stdout",
     "output_type": "stream",
     "text": [
      "5C\n",
      "5C\n",
      "5C\n"
     ]
    }
   ],
   "source": [
    "for dist in beats.city_district_assigned:\n",
    "    if pd.notnull(dist):\n",
    "        if not all([char.isdigit() for char in dist]): print(dist)"
   ]
  },
  {
   "cell_type": "code",
   "execution_count": 18,
   "id": "0f5d7d5f",
   "metadata": {},
   "outputs": [
    {
     "data": {
      "text/html": [
       "<div>\n",
       "<style scoped>\n",
       "    .dataframe tbody tr th:only-of-type {\n",
       "        vertical-align: middle;\n",
       "    }\n",
       "\n",
       "    .dataframe tbody tr th {\n",
       "        vertical-align: top;\n",
       "    }\n",
       "\n",
       "    .dataframe thead th {\n",
       "        text-align: right;\n",
       "    }\n",
       "</style>\n",
       "<table border=\"1\" class=\"dataframe\">\n",
       "  <thead>\n",
       "    <tr style=\"text-align: right;\">\n",
       "      <th></th>\n",
       "      <th>rd_no</th>\n",
       "      <th>address</th>\n",
       "      <th>beat_occurred</th>\n",
       "      <th>beat_assigned</th>\n",
       "      <th>city_district_occurred</th>\n",
       "      <th>city_sector_occurred</th>\n",
       "      <th>city_beat_occurred</th>\n",
       "      <th>city_district_assigned</th>\n",
       "      <th>city_sector_assigned</th>\n",
       "      <th>city_beat_assigned</th>\n",
       "    </tr>\n",
       "  </thead>\n",
       "  <tbody>\n",
       "    <tr>\n",
       "      <th>4332</th>\n",
       "      <td>HM233065</td>\n",
       "      <td>97XX S OGLESBY AVE, CHICAGO</td>\n",
       "      <td>0431</td>\n",
       "      <td>0404C</td>\n",
       "      <td>4</td>\n",
       "      <td>3</td>\n",
       "      <td>1</td>\n",
       "      <td>04</td>\n",
       "      <td>0</td>\n",
       "      <td>4C</td>\n",
       "    </tr>\n",
       "    <tr>\n",
       "      <th>5838</th>\n",
       "      <td>JE194869</td>\n",
       "      <td>130XX S DREXEL AVE, CHICAGO</td>\n",
       "      <td>0533</td>\n",
       "      <td>4578C</td>\n",
       "      <td>5</td>\n",
       "      <td>3</td>\n",
       "      <td>3</td>\n",
       "      <td>45</td>\n",
       "      <td>7</td>\n",
       "      <td>8C</td>\n",
       "    </tr>\n",
       "    <tr>\n",
       "      <th>9075</th>\n",
       "      <td>HL179003</td>\n",
       "      <td>47XX N DRAKE AVE, CHICAGO</td>\n",
       "      <td>1723</td>\n",
       "      <td>1763C</td>\n",
       "      <td>17</td>\n",
       "      <td>2</td>\n",
       "      <td>3</td>\n",
       "      <td>17</td>\n",
       "      <td>6</td>\n",
       "      <td>3C</td>\n",
       "    </tr>\n",
       "    <tr>\n",
       "      <th>10615</th>\n",
       "      <td>HJ404858</td>\n",
       "      <td>30XX W 21ST PL, CHICAGO</td>\n",
       "      <td>1022</td>\n",
       "      <td>1004C</td>\n",
       "      <td>10</td>\n",
       "      <td>2</td>\n",
       "      <td>2</td>\n",
       "      <td>10</td>\n",
       "      <td>0</td>\n",
       "      <td>4C</td>\n",
       "    </tr>\n",
       "    <tr>\n",
       "      <th>15227</th>\n",
       "      <td>HM607166</td>\n",
       "      <td>6XX W DIVISION ST, CHICAGO</td>\n",
       "      <td>1822</td>\n",
       "      <td>4577C</td>\n",
       "      <td>18</td>\n",
       "      <td>2</td>\n",
       "      <td>2</td>\n",
       "      <td>45</td>\n",
       "      <td>7</td>\n",
       "      <td>7C</td>\n",
       "    </tr>\n",
       "  </tbody>\n",
       "</table>\n",
       "</div>"
      ],
      "text/plain": [
       "          rd_no                      address beat_occurred beat_assigned  \\\n",
       "4332   HM233065  97XX S OGLESBY AVE, CHICAGO          0431         0404C   \n",
       "5838   JE194869  130XX S DREXEL AVE, CHICAGO          0533         4578C   \n",
       "9075   HL179003    47XX N DRAKE AVE, CHICAGO          1723         1763C   \n",
       "10615  HJ404858      30XX W 21ST PL, CHICAGO          1022         1004C   \n",
       "15227  HM607166   6XX W DIVISION ST, CHICAGO          1822         4577C   \n",
       "\n",
       "      city_district_occurred city_sector_occurred city_beat_occurred  \\\n",
       "4332                       4                    3                  1   \n",
       "5838                       5                    3                  3   \n",
       "9075                      17                    2                  3   \n",
       "10615                     10                    2                  2   \n",
       "15227                     18                    2                  2   \n",
       "\n",
       "      city_district_assigned city_sector_assigned city_beat_assigned  \n",
       "4332                      04                    0                 4C  \n",
       "5838                      45                    7                 8C  \n",
       "9075                      17                    6                 3C  \n",
       "10615                     10                    0                 4C  \n",
       "15227                     45                    7                 7C  "
      ]
     },
     "execution_count": 18,
     "metadata": {},
     "output_type": "execute_result"
    }
   ],
   "source": [
    "beats.loc[(beats.beat_assigned.notnull()) & \n",
    "          (beats.beat_assigned.str.contains('C'))\n",
    "         ].head()"
   ]
  },
  {
   "cell_type": "code",
   "execution_count": 19,
   "id": "ac518839",
   "metadata": {},
   "outputs": [
    {
     "data": {
      "text/plain": [
       "{13: 4762,\n",
       " 72: 14325,\n",
       " 23: 10061,\n",
       " 21: 4411,\n",
       " 73: 325,\n",
       " 29: 140,\n",
       " 75: 227,\n",
       " 45: 650,\n",
       " 74: 92,\n",
       " 52: 4128,\n",
       " 55: 6,\n",
       " 95: 1,\n",
       " 83: 33,\n",
       " 54: 20,\n",
       " 53: 593,\n",
       " 91: 523,\n",
       " 57: 16,\n",
       " 71: 61,\n",
       " 51: 20,\n",
       " 77: 13,\n",
       " 44: 9,\n",
       " 56: 3,\n",
       " 41: 9,\n",
       " 47: 11,\n",
       " 93: 2,\n",
       " 28: 3,\n",
       " 82: 15,\n",
       " 81: 17,\n",
       " 26: 4,\n",
       " 50: 1,\n",
       " 76: 1,\n",
       " 67: 5,\n",
       " 62: 22,\n",
       " 92: 5,\n",
       " 80: 2,\n",
       " 42: 14,\n",
       " 0: 1,\n",
       " 43: 5,\n",
       " 78: 1,\n",
       " 65: 2,\n",
       " 79: 1,\n",
       " 96: 1,\n",
       " 32: 1,\n",
       " 97: 1,\n",
       " 58: 2,\n",
       " 70: 1,\n",
       " 61: 1,\n",
       " 63: 2}"
      ]
     },
     "execution_count": 19,
     "metadata": {},
     "output_type": "execute_result"
    }
   ],
   "source": [
    "unk_dist = {}\n",
    "for dist in beats.city_district_assigned.values:\n",
    "    if pd.isna(dist): continue\n",
    "    if (dist.isdigit()):\n",
    "        clean = int(dist)\n",
    "        if clean not in city_beats.DISTRICT.unique():\n",
    "            if clean not in unk_dist: unk_dist[clean] = 1\n",
    "            else: unk_dist[clean] += 1\n",
    "unk_dist"
   ]
  },
  {
   "cell_type": "markdown",
   "id": "e0d2c9de",
   "metadata": {},
   "source": [
    "### same question but for sectors?"
   ]
  },
  {
   "cell_type": "code",
   "execution_count": 20,
   "id": "8ff9875e",
   "metadata": {},
   "outputs": [
    {
     "data": {
      "text/plain": [
       "{4: 18942, 7: 6140, 8: 1340, 6: 452, 9: 1249}"
      ]
     },
     "execution_count": 20,
     "metadata": {},
     "output_type": "execute_result"
    }
   ],
   "source": [
    "unk_sect = {}\n",
    "for dist in beats.city_sector_assigned.values:\n",
    "    if pd.isna(dist): continue\n",
    "    if (dist.isdigit()):\n",
    "        clean = int(dist)\n",
    "        if clean not in city_beats.SECTOR.unique():\n",
    "            if clean not in unk_sect: unk_sect[clean] = 1\n",
    "            else: unk_sect[clean] += 1\n",
    "unk_sect"
   ]
  },
  {
   "cell_type": "markdown",
   "id": "46136fcf",
   "metadata": {},
   "source": [
    "### same question but for beats?\n",
    "Note: a \"BEAT_NUM\" is f\"{DISTRICT}{SECTOR}{BEAT}\""
   ]
  },
  {
   "cell_type": "code",
   "execution_count": 21,
   "id": "9239e366",
   "metadata": {},
   "outputs": [
    {
     "data": {
      "text/plain": [
       "{4: 42450,\n",
       " 6: 8212,\n",
       " 7: 6199,\n",
       " 9: 2269,\n",
       " 8: 2568,\n",
       " 11: 1,\n",
       " 74: 1,\n",
       " 12: 1,\n",
       " 72: 2,\n",
       " 69: 1,\n",
       " 71: 1}"
      ]
     },
     "execution_count": 21,
     "metadata": {},
     "output_type": "execute_result"
    }
   ],
   "source": [
    "unk_beat = {}\n",
    "for dist in beats.city_beat_assigned.values:\n",
    "    if pd.isna(dist): continue\n",
    "    if (dist.isdigit()):\n",
    "        clean = int(dist)\n",
    "        if clean not in city_beats.BEAT.unique():\n",
    "            if clean not in unk_beat: unk_beat[clean] = 1\n",
    "            else: unk_beat[clean] += 1\n",
    "unk_beat"
   ]
  },
  {
   "cell_type": "markdown",
   "id": "0a733e47",
   "metadata": {},
   "source": [
    "### chars in beat_nums: an artifact of the supervisor?\n",
    "Note: we've been advised the alphabetical characters we sometimes in the beat_nums refers to the initial of supervisor of that region at that point in time, since some of the canonical areas are divided that way"
   ]
  },
  {
   "cell_type": "code",
   "execution_count": 22,
   "id": "ab958099",
   "metadata": {},
   "outputs": [
    {
     "data": {
      "text/plain": [
       "843"
      ]
     },
     "execution_count": 22,
     "metadata": {},
     "output_type": "execute_result"
    }
   ],
   "source": [
    "# how many unique beat_assigned values contain [A-Z]?\n",
    "has_char = []\n",
    "for assn in beats.beat_assigned.unique():\n",
    "    if pd.isna(assn): continue\n",
    "    if not all([char.isdigit() for char in assn]): has_char.append(assn)\n",
    "len(has_char)"
   ]
  },
  {
   "cell_type": "code",
   "execution_count": 23,
   "id": "60bbad35",
   "metadata": {},
   "outputs": [
    {
     "data": {
      "text/plain": [
       "{'A': 116,\n",
       " 'S': 90,\n",
       " 'R': 429,\n",
       " 'H': 30,\n",
       " 'C': 41,\n",
       " 'Z': 2,\n",
       " 'D': 35,\n",
       " 'B': 49,\n",
       " 'W': 2,\n",
       " 'F': 7,\n",
       " 'K': 1,\n",
       " 'HR': 6,\n",
       " 'E': 13,\n",
       " 'I': 3,\n",
       " 'N': 1,\n",
       " 'X': 1,\n",
       " 'L': 2,\n",
       " 'G': 4,\n",
       " 'J': 1,\n",
       " 'M': 2,\n",
       " 'V': 1,\n",
       " 'O': 1}"
      ]
     },
     "execution_count": 23,
     "metadata": {},
     "output_type": "execute_result"
    }
   ],
   "source": [
    "chars = {}\n",
    "for val in has_char:\n",
    "    clean = ''.join([v for v in val[-2:] if not v.isdigit()])\n",
    "    if not clean: continue\n",
    "    if clean not in chars: chars[clean] = 1\n",
    "    else: chars[clean] += 1\n",
    "chars"
   ]
  },
  {
   "cell_type": "code",
   "execution_count": 24,
   "id": "ab8f2fcd",
   "metadata": {},
   "outputs": [
    {
     "data": {
      "text/plain": [
       "1744"
      ]
     },
     "execution_count": 24,
     "metadata": {},
     "output_type": "execute_result"
    }
   ],
   "source": [
    "only_digits = [int(beat) \n",
    "               for beat in beats.loc[~beats.beat_assigned.isin(has_char), 'beat_assigned'].unique() \n",
    "               if beat]\n",
    "len(only_digits)"
   ]
  },
  {
   "cell_type": "code",
   "execution_count": 25,
   "id": "751f8283",
   "metadata": {},
   "outputs": [
    {
     "data": {
      "text/plain": [
       "325188"
      ]
     },
     "execution_count": 25,
     "metadata": {},
     "output_type": "execute_result"
    }
   ],
   "source": [
    "beats.loc[~beats.beat_assigned.isin(has_char), 'beat_assigned'].value_counts().sum()"
   ]
  },
  {
   "cell_type": "markdown",
   "id": "e803404a",
   "metadata": {},
   "source": [
    "## plotting `beat_occurred`"
   ]
  },
  {
   "cell_type": "code",
   "execution_count": 26,
   "id": "55fcd23a",
   "metadata": {},
   "outputs": [
    {
     "data": {
      "text/html": [
       "<div>\n",
       "<style scoped>\n",
       "    .dataframe tbody tr th:only-of-type {\n",
       "        vertical-align: middle;\n",
       "    }\n",
       "\n",
       "    .dataframe tbody tr th {\n",
       "        vertical-align: top;\n",
       "    }\n",
       "\n",
       "    .dataframe thead th {\n",
       "        text-align: right;\n",
       "    }\n",
       "</style>\n",
       "<table border=\"1\" class=\"dataframe\">\n",
       "  <thead>\n",
       "    <tr style=\"text-align: right;\">\n",
       "      <th></th>\n",
       "      <th>beat_num</th>\n",
       "      <th>n_reports</th>\n",
       "    </tr>\n",
       "  </thead>\n",
       "  <tbody>\n",
       "    <tr>\n",
       "      <th>0</th>\n",
       "      <td>0111</td>\n",
       "      <td>130</td>\n",
       "    </tr>\n",
       "    <tr>\n",
       "      <th>1</th>\n",
       "      <td>0112</td>\n",
       "      <td>41</td>\n",
       "    </tr>\n",
       "    <tr>\n",
       "      <th>2</th>\n",
       "      <td>0113</td>\n",
       "      <td>53</td>\n",
       "    </tr>\n",
       "    <tr>\n",
       "      <th>3</th>\n",
       "      <td>0114</td>\n",
       "      <td>73</td>\n",
       "    </tr>\n",
       "    <tr>\n",
       "      <th>4</th>\n",
       "      <td>0121</td>\n",
       "      <td>41</td>\n",
       "    </tr>\n",
       "    <tr>\n",
       "      <th>...</th>\n",
       "      <td>...</td>\n",
       "      <td>...</td>\n",
       "    </tr>\n",
       "    <tr>\n",
       "      <th>300</th>\n",
       "      <td>2532</td>\n",
       "      <td>1537</td>\n",
       "    </tr>\n",
       "    <tr>\n",
       "      <th>301</th>\n",
       "      <td>2533</td>\n",
       "      <td>1784</td>\n",
       "    </tr>\n",
       "    <tr>\n",
       "      <th>302</th>\n",
       "      <td>2534</td>\n",
       "      <td>1407</td>\n",
       "    </tr>\n",
       "    <tr>\n",
       "      <th>303</th>\n",
       "      <td>2535</td>\n",
       "      <td>1208</td>\n",
       "    </tr>\n",
       "    <tr>\n",
       "      <th>304</th>\n",
       "      <td>3100</td>\n",
       "      <td>12</td>\n",
       "    </tr>\n",
       "  </tbody>\n",
       "</table>\n",
       "<p>305 rows × 2 columns</p>\n",
       "</div>"
      ],
      "text/plain": [
       "    beat_num  n_reports\n",
       "0       0111        130\n",
       "1       0112         41\n",
       "2       0113         53\n",
       "3       0114         73\n",
       "4       0121         41\n",
       "..       ...        ...\n",
       "300     2532       1537\n",
       "301     2533       1784\n",
       "302     2534       1407\n",
       "303     2535       1208\n",
       "304     3100         12\n",
       "\n",
       "[305 rows x 2 columns]"
      ]
     },
     "execution_count": 26,
     "metadata": {},
     "output_type": "execute_result"
    }
   ],
   "source": [
    "beat_vc = mp[['rd_no', 'beat_occurred']].groupby('beat_occurred').count().reset_index()\n",
    "beat_vc.rename(columns={'beat_occurred': 'beat_num', \n",
    "                        'rd_no': 'n_reports'}, inplace=True)\n",
    "beat_vc"
   ]
  },
  {
   "cell_type": "code",
   "execution_count": 27,
   "id": "f9e20c26",
   "metadata": {},
   "outputs": [
    {
     "data": {
      "text/plain": [
       "count    2.770000e+02\n",
       "mean     3.963240e+06\n",
       "std      4.598805e+06\n",
       "min      2.476008e+05\n",
       "25%      1.790281e+06\n",
       "50%      2.683263e+06\n",
       "75%      4.379960e+06\n",
       "max      4.877212e+07\n",
       "Name: area, dtype: float64"
      ]
     },
     "execution_count": 27,
     "metadata": {},
     "output_type": "execute_result"
    }
   ],
   "source": [
    "geo_pd = pd.merge(beat_vc, geo_gjs, on='beat_num', how='outer')\n",
    "geo_gpd = gpd.GeoDataFrame(geo_pd)\n",
    "geo_pd.area.describe()"
   ]
  },
  {
   "cell_type": "code",
   "execution_count": 28,
   "id": "5b0b5637",
   "metadata": {},
   "outputs": [
    {
     "data": {
      "text/plain": [
       "21329"
      ]
     },
     "execution_count": 28,
     "metadata": {},
     "output_type": "execute_result"
    }
   ],
   "source": [
    "# a majority of these missing geometry are districts that were changed after 2012\n",
    "# representing some 21k records\n",
    "# unclear how to resolve to salvage those reports for this mapping\n",
    "geo_pd.loc[geo_pd.geometry.isna(), 'beat_num'].str[:2].value_counts()\n",
    "geo_pd.loc[geo_pd.geometry.isna(), 'n_reports'].sum()"
   ]
  },
  {
   "cell_type": "code",
   "execution_count": 29,
   "id": "8c196a12",
   "metadata": {},
   "outputs": [
    {
     "data": {
      "text/plain": [
       "<Axes: >"
      ]
     },
     "execution_count": 29,
     "metadata": {},
     "output_type": "execute_result"
    },
    {
     "data": {
      "image/png": "[encoded data removed]",
      "text/plain": [
       "<Figure size 640x480 with 1 Axes>"
      ]
     },
     "metadata": {},
     "output_type": "display_data"
    }
   ],
   "source": [
    "geo_gpd.plot()"
   ]
  },
  {
   "cell_type": "code",
   "execution_count": 30,
   "id": "bc5083db",
   "metadata": {},
   "outputs": [
    {
     "data": {
      "text/html": [
       "<div>\n",
       "<style scoped>\n",
       "    .dataframe tbody tr th:only-of-type {\n",
       "        vertical-align: middle;\n",
       "    }\n",
       "\n",
       "    .dataframe tbody tr th {\n",
       "        vertical-align: top;\n",
       "    }\n",
       "\n",
       "    .dataframe thead th {\n",
       "        text-align: right;\n",
       "    }\n",
       "</style>\n",
       "<table border=\"1\" class=\"dataframe\">\n",
       "  <thead>\n",
       "    <tr style=\"text-align: right;\">\n",
       "      <th></th>\n",
       "      <th>beat_num</th>\n",
       "      <th>n_reports</th>\n",
       "      <th>beat</th>\n",
       "      <th>district</th>\n",
       "      <th>sector</th>\n",
       "      <th>geometry</th>\n",
       "      <th>area</th>\n",
       "    </tr>\n",
       "  </thead>\n",
       "  <tbody>\n",
       "    <tr>\n",
       "      <th>0</th>\n",
       "      <td>0111</td>\n",
       "      <td>130</td>\n",
       "      <td>1</td>\n",
       "      <td>01</td>\n",
       "      <td>1</td>\n",
       "      <td>MULTIPOLYGON (((-9754315.890 5144261.498, -975...</td>\n",
       "      <td>5.026277e+05</td>\n",
       "    </tr>\n",
       "    <tr>\n",
       "      <th>1</th>\n",
       "      <td>0112</td>\n",
       "      <td>41</td>\n",
       "      <td>1</td>\n",
       "      <td>01</td>\n",
       "      <td>1</td>\n",
       "      <td>MULTIPOLYGON (((-9754408.181 5143502.892, -975...</td>\n",
       "      <td>4.046126e+05</td>\n",
       "    </tr>\n",
       "    <tr>\n",
       "      <th>2</th>\n",
       "      <td>0113</td>\n",
       "      <td>53</td>\n",
       "      <td>1</td>\n",
       "      <td>01</td>\n",
       "      <td>1</td>\n",
       "      <td>MULTIPOLYGON (((-9754495.754 5142949.474, -975...</td>\n",
       "      <td>4.115397e+05</td>\n",
       "    </tr>\n",
       "    <tr>\n",
       "      <th>3</th>\n",
       "      <td>0114</td>\n",
       "      <td>73</td>\n",
       "      <td>1</td>\n",
       "      <td>01</td>\n",
       "      <td>1</td>\n",
       "      <td>MULTIPOLYGON (((-9754300.463 5144345.320, -975...</td>\n",
       "      <td>3.145153e+06</td>\n",
       "    </tr>\n",
       "    <tr>\n",
       "      <th>4</th>\n",
       "      <td>0121</td>\n",
       "      <td>41</td>\n",
       "      <td>2</td>\n",
       "      <td>01</td>\n",
       "      <td>2</td>\n",
       "      <td>MULTIPOLYGON (((-9755787.798 5143876.516, -975...</td>\n",
       "      <td>1.241985e+06</td>\n",
       "    </tr>\n",
       "    <tr>\n",
       "      <th>...</th>\n",
       "      <td>...</td>\n",
       "      <td>...</td>\n",
       "      <td>...</td>\n",
       "      <td>...</td>\n",
       "      <td>...</td>\n",
       "      <td>...</td>\n",
       "      <td>...</td>\n",
       "    </tr>\n",
       "    <tr>\n",
       "      <th>302</th>\n",
       "      <td>2534</td>\n",
       "      <td>1407</td>\n",
       "      <td>3</td>\n",
       "      <td>25</td>\n",
       "      <td>3</td>\n",
       "      <td>MULTIPOLYGON (((-9765675.872 5148579.401, -976...</td>\n",
       "      <td>2.370117e+06</td>\n",
       "    </tr>\n",
       "    <tr>\n",
       "      <th>303</th>\n",
       "      <td>2535</td>\n",
       "      <td>1208</td>\n",
       "      <td>3</td>\n",
       "      <td>25</td>\n",
       "      <td>3</td>\n",
       "      <td>MULTIPOLYGON (((-9764586.420 5148596.841, -976...</td>\n",
       "      <td>2.356927e+06</td>\n",
       "    </tr>\n",
       "    <tr>\n",
       "      <th>304</th>\n",
       "      <td>3100</td>\n",
       "      <td>12</td>\n",
       "      <td>0</td>\n",
       "      <td>31</td>\n",
       "      <td>0</td>\n",
       "      <td>MULTIPOLYGON (((-9777597.699 5157288.429, -977...</td>\n",
       "      <td>1.446049e+07</td>\n",
       "    </tr>\n",
       "    <tr>\n",
       "      <th>305</th>\n",
       "      <td>3100</td>\n",
       "      <td>12</td>\n",
       "      <td>0</td>\n",
       "      <td>31</td>\n",
       "      <td>0</td>\n",
       "      <td>MULTIPOLYGON (((-9776988.038 5158559.394, -977...</td>\n",
       "      <td>9.237106e+05</td>\n",
       "    </tr>\n",
       "    <tr>\n",
       "      <th>306</th>\n",
       "      <td>3100</td>\n",
       "      <td>12</td>\n",
       "      <td>0</td>\n",
       "      <td>31</td>\n",
       "      <td>0</td>\n",
       "      <td>MULTIPOLYGON (((-9761743.178 5115995.085, -976...</td>\n",
       "      <td>5.812529e+05</td>\n",
       "    </tr>\n",
       "  </tbody>\n",
       "</table>\n",
       "<p>307 rows × 7 columns</p>\n",
       "</div>"
      ],
      "text/plain": [
       "    beat_num  n_reports beat district sector  \\\n",
       "0       0111        130    1       01      1   \n",
       "1       0112         41    1       01      1   \n",
       "2       0113         53    1       01      1   \n",
       "3       0114         73    1       01      1   \n",
       "4       0121         41    2       01      2   \n",
       "..       ...        ...  ...      ...    ...   \n",
       "302     2534       1407    3       25      3   \n",
       "303     2535       1208    3       25      3   \n",
       "304     3100         12    0       31      0   \n",
       "305     3100         12    0       31      0   \n",
       "306     3100         12    0       31      0   \n",
       "\n",
       "                                              geometry          area  \n",
       "0    MULTIPOLYGON (((-9754315.890 5144261.498, -975...  5.026277e+05  \n",
       "1    MULTIPOLYGON (((-9754408.181 5143502.892, -975...  4.046126e+05  \n",
       "2    MULTIPOLYGON (((-9754495.754 5142949.474, -975...  4.115397e+05  \n",
       "3    MULTIPOLYGON (((-9754300.463 5144345.320, -975...  3.145153e+06  \n",
       "4    MULTIPOLYGON (((-9755787.798 5143876.516, -975...  1.241985e+06  \n",
       "..                                                 ...           ...  \n",
       "302  MULTIPOLYGON (((-9765675.872 5148579.401, -976...  2.370117e+06  \n",
       "303  MULTIPOLYGON (((-9764586.420 5148596.841, -976...  2.356927e+06  \n",
       "304  MULTIPOLYGON (((-9777597.699 5157288.429, -977...  1.446049e+07  \n",
       "305  MULTIPOLYGON (((-9776988.038 5158559.394, -977...  9.237106e+05  \n",
       "306  MULTIPOLYGON (((-9761743.178 5115995.085, -976...  5.812529e+05  \n",
       "\n",
       "[307 rows x 7 columns]"
      ]
     },
     "execution_count": 30,
     "metadata": {},
     "output_type": "execute_result"
    }
   ],
   "source": [
    "geo_gpd"
   ]
  },
  {
   "cell_type": "code",
   "execution_count": 31,
   "id": "67ff98d0",
   "metadata": {},
   "outputs": [
    {
     "data": {
      "text/plain": [
       "<Axes: >"
      ]
     },
     "execution_count": 31,
     "metadata": {},
     "output_type": "execute_result"
    },
    {
     "data": {
      "image/png": "[encoded data removed]",
      "text/plain": [
       "<Figure size 700x700 with 2 Axes>"
      ]
     },
     "metadata": {},
     "output_type": "display_data"
    }
   ],
   "source": [
    "geo_gpd.plot(column='area', cmap='rainbow', legend=True,\n",
    "                legend_kwds={'label': \"area of region (in meters)\"}, \n",
    "                figsize=(7, 7))"
   ]
  },
  {
   "cell_type": "code",
   "execution_count": 33,
   "id": "2f3a8551",
   "metadata": {},
   "outputs": [
    {
     "data": {
      "text/plain": [
       "count     307.000000\n",
       "mean     1149.625407\n",
       "std      1071.088381\n",
       "min         3.000000\n",
       "25%       468.500000\n",
       "50%       965.000000\n",
       "75%      1479.500000\n",
       "max      7606.000000\n",
       "Name: n_reports, dtype: float64"
      ]
     },
     "execution_count": 33,
     "metadata": {},
     "output_type": "execute_result"
    }
   ],
   "source": [
    "geo_gpd.n_reports.describe()"
   ]
  },
  {
   "cell_type": "code",
   "execution_count": 34,
   "id": "36f9a984",
   "metadata": {},
   "outputs": [
    {
     "data": {
      "text/plain": [
       "<Axes: >"
      ]
     },
     "execution_count": 34,
     "metadata": {},
     "output_type": "execute_result"
    },
    {
     "data": {
      "image/png": "[encoded data removed]",
      "text/plain": [
       "<Figure size 700x700 with 2 Axes>"
      ]
     },
     "metadata": {},
     "output_type": "display_data"
    }
   ],
   "source": [
    "geo_gpd.plot(column='n_reports', cmap='rainbow', legend=True,\n",
    "                legend_kwds={'label': \"n_reports\"}, \n",
    "                figsize=(7, 7))"
   ]
  },
  {
   "cell_type": "code",
   "execution_count": null,
   "id": "ad21f2ca",
   "metadata": {},
   "outputs": [],
   "source": []
  },
  {
   "cell_type": "code",
   "execution_count": null,
   "id": "c2b1b911",
   "metadata": {},
   "outputs": [],
   "source": []
  }
 ],
 "metadata": {
  "kernelspec": {
   "display_name": "Python 3 (ipykernel)",
   "language": "python",
   "name": "python3"
  },
  "language_info": {
   "codemirror_mode": {
    "name": "ipython",
    "version": 3
   },
   "file_extension": ".py",
   "mimetype": "text/x-python",
   "name": "python",
   "nbconvert_exporter": "python",
   "pygments_lexer": "ipython3",
   "version": "3.10.11"
  }
 },
 "nbformat": 4,
 "nbformat_minor": 5
}
